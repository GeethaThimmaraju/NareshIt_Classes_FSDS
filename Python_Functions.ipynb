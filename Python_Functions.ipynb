{
 "cells": [
  {
   "cell_type": "code",
   "execution_count": 81,
   "id": "3e63b816-1a23-458a-8c67-d8a894fc90eb",
   "metadata": {},
   "outputs": [],
   "source": [
    "def greet():  # define the function\n",
    "    print('good evening') ## print the statement\n"
   ]
  },
  {
   "cell_type": "code",
   "execution_count": 83,
   "id": "d679911c-9fec-4d19-94c6-0b3bdf7bcb3b",
   "metadata": {},
   "outputs": [
    {
     "name": "stdout",
     "output_type": "stream",
     "text": [
      "good evening\n"
     ]
    }
   ],
   "source": [
    "def greet():  # define the function\n",
    "    print('good evening') ## print the statement\n",
    "greet()  # call the function"
   ]
  },
  {
   "cell_type": "code",
   "execution_count": 85,
   "id": "c37a0ab7-5b5e-45e0-bb15-0c9d77b5ff9a",
   "metadata": {},
   "outputs": [
    {
     "name": "stdout",
     "output_type": "stream",
     "text": [
      "good evening\n",
      "good evening\n",
      "good evening\n"
     ]
    }
   ],
   "source": [
    "def greet():  # define the function\n",
    "    print('good evening') ## print the statement\n",
    "greet() \n",
    "\n",
    "def greet():  # define the function\n",
    "    print('good evening') ## print the statement\n",
    "greet() \n",
    "\n",
    "def greet():  # define the function\n",
    "    print('good evening') ## print the statement\n",
    "greet() "
   ]
  },
  {
   "cell_type": "code",
   "execution_count": 87,
   "id": "f90a0b52-b377-47a4-a7f0-d22f296e6bad",
   "metadata": {},
   "outputs": [
    {
     "name": "stdout",
     "output_type": "stream",
     "text": [
      "good evening\n",
      "\n",
      "good evening\n",
      "\n",
      "good evening\n",
      "\n"
     ]
    }
   ],
   "source": [
    "def greet():  # define the function\n",
    "    print('good evening') ## print the statement\n",
    "\n",
    "greet()\n",
    "print()           # we define once but can call multiple times\n",
    "greet()\n",
    "print()\n",
    "greet()\n",
    "print()\n"
   ]
  },
  {
   "cell_type": "code",
   "execution_count": 89,
   "id": "32f84900-1cda-485b-bf06-87c10feb7fa3",
   "metadata": {},
   "outputs": [
    {
     "name": "stdout",
     "output_type": "stream",
     "text": [
      "11\n"
     ]
    }
   ],
   "source": [
    "def add(x,y):\n",
    "    c=x+y\n",
    "    print(c)\n",
    "add(5,6)"
   ]
  },
  {
   "cell_type": "code",
   "execution_count": 91,
   "id": "e8bf6e6c-78e6-44ac-b91e-11014f2f6762",
   "metadata": {},
   "outputs": [
    {
     "ename": "TypeError",
     "evalue": "add() takes 1 positional argument but 2 were given",
     "output_type": "error",
     "traceback": [
      "\u001b[1;31m---------------------------------------------------------------------------\u001b[0m",
      "\u001b[1;31mTypeError\u001b[0m                                 Traceback (most recent call last)",
      "Cell \u001b[1;32mIn[91], line 4\u001b[0m\n\u001b[0;32m      2\u001b[0m     c\u001b[38;5;241m=\u001b[39mx\u001b[38;5;241m+\u001b[39my\n\u001b[0;32m      3\u001b[0m     \u001b[38;5;28mprint\u001b[39m(c)\n\u001b[1;32m----> 4\u001b[0m add(\u001b[38;5;241m5\u001b[39m,\u001b[38;5;241m6\u001b[39m)\n",
      "\u001b[1;31mTypeError\u001b[0m: add() takes 1 positional argument but 2 were given"
     ]
    }
   ],
   "source": [
    "def add(x):\n",
    "    c=x+y\n",
    "    print(c)\n",
    "add(5,6)"
   ]
  },
  {
   "cell_type": "code",
   "execution_count": 93,
   "id": "cfdf087c-0c47-433b-9c6b-b589e53134f9",
   "metadata": {},
   "outputs": [
    {
     "name": "stdout",
     "output_type": "stream",
     "text": [
      "good evening\n",
      "11\n"
     ]
    }
   ],
   "source": [
    "def greet():  # define the function\n",
    "    print('good evening') ## print the statement\n",
    "greet()\n",
    "\n",
    "def add(x,y):\n",
    "    c=x+y\n",
    "    print(c)\n",
    "add(5,6)"
   ]
  },
  {
   "cell_type": "code",
   "execution_count": 95,
   "id": "dee93128-8acb-417a-8196-5f6b02a28d75",
   "metadata": {},
   "outputs": [
    {
     "name": "stdout",
     "output_type": "stream",
     "text": [
      "good evening\n",
      "\n",
      "11\n"
     ]
    }
   ],
   "source": [
    "def greet():  # define the function\n",
    "    print('good evening') ## print the statement\n",
    "greet() \n",
    "print()\n",
    "def add(x,y):\n",
    "    c=x+y\n",
    "    print(c)\n",
    "add(5,6)"
   ]
  },
  {
   "cell_type": "code",
   "execution_count": 97,
   "id": "04360e09-c127-410e-b293-c62329ed4211",
   "metadata": {},
   "outputs": [
    {
     "name": "stdout",
     "output_type": "stream",
     "text": [
      "good evening\n",
      "11\n"
     ]
    }
   ],
   "source": [
    "def greet():  # define the function\n",
    "    print('good evening') ## print the statement\n",
    "def add(x,y):\n",
    "    c=x+y\n",
    "    print(c)\n",
    "greet()\n",
    "add(5,6)"
   ]
  },
  {
   "cell_type": "code",
   "execution_count": 99,
   "id": "1c0eee71-3500-4862-96d5-791fba18697c",
   "metadata": {},
   "outputs": [
    {
     "name": "stdout",
     "output_type": "stream",
     "text": [
      "good evening\n",
      "11\n",
      "-10\n",
      "good evening\n",
      "30\n",
      "-10\n"
     ]
    }
   ],
   "source": [
    "def greet():  # define the function\n",
    "    print('good evening') ## print the statement\n",
    "def add(x,y):\n",
    "    c=x+y\n",
    "    print(c)\n",
    "def sub(x,y):\n",
    "    c=x-y\n",
    "    print(c)\n",
    "\n",
    "\n",
    "greet()\n",
    "add(5,6)\n",
    "sub(10,20)\n",
    "\n",
    "greet()\n",
    "add(10,20)\n",
    "sub(10,20)"
   ]
  },
  {
   "cell_type": "code",
   "execution_count": 101,
   "id": "6efad4ea-448c-4294-a27f-5c0485e7cefa",
   "metadata": {},
   "outputs": [
    {
     "data": {
      "text/plain": [
       "30"
      ]
     },
     "execution_count": 101,
     "metadata": {},
     "output_type": "execute_result"
    }
   ],
   "source": [
    "def add(x,y):\n",
    "    c=x+y\n",
    "    return c   # instead of print we use return\n",
    "add(10,20)\n"
   ]
  },
  {
   "cell_type": "code",
   "execution_count": 103,
   "id": "fa4a958a-86b6-42c3-80e9-c2ab2d8e08d2",
   "metadata": {},
   "outputs": [
    {
     "name": "stdout",
     "output_type": "stream",
     "text": [
      "50\n",
      "10\n"
     ]
    }
   ],
   "source": [
    "def add(x,y):\n",
    "    c=x+y\n",
    "    return c   # instead of print we use return\n",
    "\n",
    "def sub(x,y):\n",
    "    d=x-y\n",
    "    return d  # instead of print we use return\n",
    "print(add(30,20))\n",
    "print(sub(30,20))"
   ]
  },
  {
   "cell_type": "code",
   "execution_count": 113,
   "id": "f0a7909d-41ca-4e22-a2c6-a511f2963178",
   "metadata": {},
   "outputs": [
    {
     "name": "stdout",
     "output_type": "stream",
     "text": [
      "30\n",
      "10\n",
      "<class 'int'>\n",
      "<class 'int'>\n"
     ]
    }
   ],
   "source": [
    "def add(x,y):\n",
    "    c=x+y\n",
    "    return c\n",
    "\n",
    "def sub(x,y):\n",
    "    d=x-y\n",
    "    return d\n",
    "result=add(20,10)\n",
    "result2=sub(20,10)\n",
    "\n",
    "print(result)\n",
    "print(result2)\n",
    "\n",
    "print(type(result))\n",
    "print(type(result2))"
   ]
  },
  {
   "cell_type": "code",
   "execution_count": 117,
   "id": "8b14a415-530e-4a48-95c1-075591f6126b",
   "metadata": {},
   "outputs": [
    {
     "name": "stdout",
     "output_type": "stream",
     "text": [
      "(-10, 50)\n",
      "<class 'tuple'>\n"
     ]
    }
   ],
   "source": [
    "def add_sub(x,y):\n",
    "    c = x-y\n",
    "    d= x+y\n",
    "    return c,d\n",
    "result = add_sub(20,30)\n",
    "print(result)\n",
    "print(type(result))"
   ]
  },
  {
   "cell_type": "code",
   "execution_count": 119,
   "id": "f003d6eb-f916-4e09-8185-de1a115207d1",
   "metadata": {},
   "outputs": [
    {
     "name": "stdout",
     "output_type": "stream",
     "text": [
      "-10\n",
      "50\n",
      "<class 'int'>\n",
      "<class 'int'>\n"
     ]
    }
   ],
   "source": [
    "def add_sub(x,y):\n",
    "    c = x-y\n",
    "    d= x+y\n",
    "    return c,d\n",
    "result,result2 = add_sub(20,30)\n",
    "\n",
    "print(result)\n",
    "print(result2)\n",
    "print(type(result))\n",
    "print(type(result2))  ## it is not correct syntax if we got same output"
   ]
  },
  {
   "cell_type": "markdown",
   "id": "25b80731-3849-43bc-aa77-d70fbbfca791",
   "metadata": {},
   "source": [
    "# Function Arguments"
   ]
  },
  {
   "cell_type": "code",
   "execution_count": 121,
   "id": "dc15277a-5069-4fed-8af5-4d95e4b54c81",
   "metadata": {},
   "outputs": [
    {
     "name": "stdout",
     "output_type": "stream",
     "text": [
      "8\n"
     ]
    }
   ],
   "source": [
    "def update():\n",
    "    x = 8\n",
    "    print(x)\n",
    "update()"
   ]
  },
  {
   "cell_type": "code",
   "execution_count": 123,
   "id": "0ba0e127-9e75-4b5a-b9a8-7e8114a3389f",
   "metadata": {},
   "outputs": [
    {
     "ename": "TypeError",
     "evalue": "update() takes 0 positional arguments but 1 was given",
     "output_type": "error",
     "traceback": [
      "\u001b[1;31m---------------------------------------------------------------------------\u001b[0m",
      "\u001b[1;31mTypeError\u001b[0m                                 Traceback (most recent call last)",
      "Cell \u001b[1;32mIn[123], line 5\u001b[0m\n\u001b[0;32m      2\u001b[0m     x \u001b[38;5;241m=\u001b[39m \u001b[38;5;241m8\u001b[39m\n\u001b[0;32m      3\u001b[0m     \u001b[38;5;28mprint\u001b[39m(x)\n\u001b[1;32m----> 5\u001b[0m update(\u001b[38;5;241m8\u001b[39m)\n",
      "\u001b[1;31mTypeError\u001b[0m: update() takes 0 positional arguments but 1 was given"
     ]
    }
   ],
   "source": [
    " def update(): \n",
    "     x = 8\n",
    "     print(x)\n",
    "\n",
    "update(8)"
   ]
  },
  {
   "cell_type": "code",
   "execution_count": 125,
   "id": "7d86b8ec-8ddd-4a65-b564-3a3d30edb844",
   "metadata": {},
   "outputs": [
    {
     "data": {
      "text/plain": [
       "8"
      ]
     },
     "execution_count": 125,
     "metadata": {},
     "output_type": "execute_result"
    }
   ],
   "source": [
    "def update(x):\n",
    "    x = 8\n",
    "    return x\n",
    "\n",
    "update(8)"
   ]
  },
  {
   "cell_type": "code",
   "execution_count": 127,
   "id": "7914bd57-342b-4573-953f-19da057c3bbf",
   "metadata": {},
   "outputs": [
    {
     "data": {
      "text/plain": [
       "8"
      ]
     },
     "execution_count": 127,
     "metadata": {},
     "output_type": "execute_result"
    }
   ],
   "source": [
    "def update(x):\n",
    "    x = 8\n",
    "    return x\n",
    "\n",
    "update(10)"
   ]
  },
  {
   "cell_type": "code",
   "execution_count": 129,
   "id": "b05d7bc6-adc3-43f4-82d3-bba7d133c833",
   "metadata": {},
   "outputs": [
    {
     "name": "stdout",
     "output_type": "stream",
     "text": [
      "8\n",
      "10\n"
     ]
    }
   ],
   "source": [
    "def update(x):\n",
    "    x = 8\n",
    "    return x\n",
    "\n",
    "a = 10\n",
    "print(update(a))\n",
    "print(a)"
   ]
  },
  {
   "cell_type": "markdown",
   "id": "80b92214-c429-48c2-acb0-a7a94611393d",
   "metadata": {},
   "source": [
    "### Function without argument - not required anything\n",
    "### Function with argument -- divided into 2 parts\n",
    "\n",
    "- Formal Argument\n",
    "- Actual Argument"
   ]
  },
  {
   "cell_type": "code",
   "execution_count": 132,
   "id": "6d0b6079-a4fd-49ad-a0b0-a3e2ae027160",
   "metadata": {},
   "outputs": [
    {
     "data": {
      "text/plain": [
       "9"
      ]
     },
     "execution_count": 132,
     "metadata": {},
     "output_type": "execute_result"
    }
   ],
   "source": [
    "def add(x,y): # x & y is called--Formal Argument\n",
    "    c=x+y\n",
    "    return c\n",
    "\n",
    "add(4,5) #4 & 5 is called -- Actual Argumnet"
   ]
  },
  {
   "cell_type": "markdown",
   "id": "9e0b36bb-8c51-431b-9a88-b1c0df9a9a9d",
   "metadata": {},
   "source": [
    "## Positional argument"
   ]
  },
  {
   "cell_type": "code",
   "execution_count": 139,
   "id": "c0809564-cd7b-430d-9293-2b58d1efb9b5",
   "metadata": {},
   "outputs": [
    {
     "data": {
      "text/plain": [
       "9"
      ]
     },
     "execution_count": 139,
     "metadata": {},
     "output_type": "execute_result"
    }
   ],
   "source": [
    "def add(x,y,a,b,c,d,e,f):\n",
    "    c=x+y\n",
    "    return c\n",
    "\n",
    "add(4,5,1,2,3,7,9,6)"
   ]
  },
  {
   "cell_type": "code",
   "execution_count": 141,
   "id": "84416456-5ca6-44d5-a88b-3bf41c4d7526",
   "metadata": {},
   "outputs": [
    {
     "name": "stdout",
     "output_type": "stream",
     "text": [
      "nit\n",
      "22\n"
     ]
    }
   ],
   "source": [
    "def person(name,age):\n",
    "    print(name)\n",
    "    print(age)\n",
    "\n",
    "person('nit',22)"
   ]
  },
  {
   "cell_type": "code",
   "execution_count": 145,
   "id": "9c5c9d6d-9ca9-4bf2-bd35-16f6ddc6f68a",
   "metadata": {},
   "outputs": [
    {
     "name": "stdout",
     "output_type": "stream",
     "text": [
      "22\n"
     ]
    },
    {
     "ename": "TypeError",
     "evalue": "can only concatenate str (not \"int\") to str",
     "output_type": "error",
     "traceback": [
      "\u001b[1;31m---------------------------------------------------------------------------\u001b[0m",
      "\u001b[1;31mTypeError\u001b[0m                                 Traceback (most recent call last)",
      "Cell \u001b[1;32mIn[145], line 5\u001b[0m\n\u001b[0;32m      2\u001b[0m     \u001b[38;5;28mprint\u001b[39m(name)\n\u001b[0;32m      3\u001b[0m     \u001b[38;5;28mprint\u001b[39m(age \u001b[38;5;241m+\u001b[39m \u001b[38;5;241m1\u001b[39m)\n\u001b[1;32m----> 5\u001b[0m person(\u001b[38;5;241m22\u001b[39m, \u001b[38;5;124m'\u001b[39m\u001b[38;5;124mnit\u001b[39m\u001b[38;5;124m'\u001b[39m)\n",
      "Cell \u001b[1;32mIn[145], line 3\u001b[0m, in \u001b[0;36mperson\u001b[1;34m(name, age)\u001b[0m\n\u001b[0;32m      1\u001b[0m \u001b[38;5;28;01mdef\u001b[39;00m \u001b[38;5;21mperson\u001b[39m(name,age):\n\u001b[0;32m      2\u001b[0m     \u001b[38;5;28mprint\u001b[39m(name)\n\u001b[1;32m----> 3\u001b[0m     \u001b[38;5;28mprint\u001b[39m(age \u001b[38;5;241m+\u001b[39m \u001b[38;5;241m1\u001b[39m)\n",
      "\u001b[1;31mTypeError\u001b[0m: can only concatenate str (not \"int\") to str"
     ]
    }
   ],
   "source": [
    "def person(name,age):\n",
    "    print(name)\n",
    "    print(age + 1)\n",
    "\n",
    "person(22, 'nit')"
   ]
  },
  {
   "cell_type": "markdown",
   "id": "cb04326e-6659-4748-b805-e2478afc0958",
   "metadata": {},
   "source": [
    "### Keyword argument"
   ]
  },
  {
   "cell_type": "code",
   "execution_count": 150,
   "id": "e41d5d1b-d07c-480f-9420-fcfa090b03e5",
   "metadata": {},
   "outputs": [
    {
     "name": "stdout",
     "output_type": "stream",
     "text": [
      "nit\n",
      "23\n"
     ]
    }
   ],
   "source": [
    "def person(name,age):\n",
    "    print(name)\n",
    "    print(age + 1)\n",
    "    \n",
    "person(age = 22, name = 'nit')"
   ]
  },
  {
   "cell_type": "code",
   "execution_count": 152,
   "id": "44adeee6-2e0c-43d9-8a2f-76ffc0b13cd4",
   "metadata": {},
   "outputs": [
    {
     "ename": "TypeError",
     "evalue": "person() missing 1 required positional argument: 'salary'",
     "output_type": "error",
     "traceback": [
      "\u001b[1;31m---------------------------------------------------------------------------\u001b[0m",
      "\u001b[1;31mTypeError\u001b[0m                                 Traceback (most recent call last)",
      "Cell \u001b[1;32mIn[152], line 6\u001b[0m\n\u001b[0;32m      3\u001b[0m     \u001b[38;5;28mprint\u001b[39m(age \u001b[38;5;241m+\u001b[39m \u001b[38;5;241m1\u001b[39m)\n\u001b[0;32m      4\u001b[0m     \u001b[38;5;28mprint\u001b[39m(\u001b[38;5;124m'\u001b[39m\u001b[38;5;124msir job chalagya\u001b[39m\u001b[38;5;124m'\u001b[39m)\n\u001b[1;32m----> 6\u001b[0m person(age \u001b[38;5;241m=\u001b[39m \u001b[38;5;241m22\u001b[39m, name \u001b[38;5;241m=\u001b[39m \u001b[38;5;124m'\u001b[39m\u001b[38;5;124mnit\u001b[39m\u001b[38;5;124m'\u001b[39m)\n",
      "\u001b[1;31mTypeError\u001b[0m: person() missing 1 required positional argument: 'salary'"
     ]
    }
   ],
   "source": [
    "def person(name,age,salary):\n",
    "    print(name)\n",
    "    print(age + 1)\n",
    "    print('sir job chalagya')\n",
    "\n",
    "person(age = 22, name = 'nit')"
   ]
  },
  {
   "cell_type": "markdown",
   "id": "9d051308-1c40-4cb3-8306-64c9dd4f25e2",
   "metadata": {},
   "source": [
    "### Default argument"
   ]
  },
  {
   "cell_type": "code",
   "execution_count": 155,
   "id": "f014ef38-abdb-42a1-b20b-f3d1a3f3c836",
   "metadata": {},
   "outputs": [
    {
     "name": "stdout",
     "output_type": "stream",
     "text": [
      "nit\n",
      "20\n",
      "21\n"
     ]
    }
   ],
   "source": [
    "def person(name, age, age2):\n",
    "    print(name)\n",
    "    print(age)\n",
    "    print(age2)\n",
    "\n",
    "person(age = 20, name = 'nit', age2 = 21)\n",
    "\n",
    "## this is called keyword argument"
   ]
  },
  {
   "cell_type": "code",
   "execution_count": 157,
   "id": "aa1d82ed-544e-4586-aebe-d0b90867a3ac",
   "metadata": {},
   "outputs": [
    {
     "ename": "TypeError",
     "evalue": "person() missing 1 required positional argument: 'age'",
     "output_type": "error",
     "traceback": [
      "\u001b[1;31m---------------------------------------------------------------------------\u001b[0m",
      "\u001b[1;31mTypeError\u001b[0m                                 Traceback (most recent call last)",
      "Cell \u001b[1;32mIn[157], line 5\u001b[0m\n\u001b[0;32m      2\u001b[0m     \u001b[38;5;28mprint\u001b[39m(name)\n\u001b[0;32m      3\u001b[0m     \u001b[38;5;28mprint\u001b[39m(age)\n\u001b[1;32m----> 5\u001b[0m person(\u001b[38;5;124m'\u001b[39m\u001b[38;5;124mnit\u001b[39m\u001b[38;5;124m'\u001b[39m)\n",
      "\u001b[1;31mTypeError\u001b[0m: person() missing 1 required positional argument: 'age'"
     ]
    }
   ],
   "source": [
    "def person(name, age):\n",
    "    print(name)\n",
    "    print(age)\n",
    "\n",
    "person('nit')"
   ]
  },
  {
   "cell_type": "code",
   "execution_count": 161,
   "id": "fd16707f-2642-4a4a-b56b-ae89f41e3b3a",
   "metadata": {},
   "outputs": [
    {
     "name": "stdout",
     "output_type": "stream",
     "text": [
      "nit\n",
      "18\n"
     ]
    }
   ],
   "source": [
    "def person(name,age=18):\n",
    "    print(name)\n",
    "    print(age)\n",
    "\n",
    "person('nit')"
   ]
  },
  {
   "cell_type": "code",
   "execution_count": 165,
   "id": "b4467faa-6a29-4956-9a5e-2f40b890d114",
   "metadata": {},
   "outputs": [
    {
     "name": "stdout",
     "output_type": "stream",
     "text": [
      "nit\n",
      "40\n"
     ]
    }
   ],
   "source": [
    "def person(name, age=18):\n",
    "    print(name)\n",
    "    print(age)\n",
    "\n",
    "person('nit',age=40)"
   ]
  },
  {
   "cell_type": "code",
   "execution_count": null,
   "id": "b48a04fc-b75f-431a-9d70-3ec44128e7b4",
   "metadata": {},
   "outputs": [],
   "source": []
  },
  {
   "cell_type": "code",
   "execution_count": null,
   "id": "63ae4552-66e0-4e6d-961d-98f0b9961899",
   "metadata": {},
   "outputs": [],
   "source": []
  },
  {
   "cell_type": "code",
   "execution_count": null,
   "id": "7809380d-bb10-439e-8199-541a41b7d42d",
   "metadata": {},
   "outputs": [],
   "source": []
  }
 ],
 "metadata": {
  "kernelspec": {
   "display_name": "Python [conda env:base] *",
   "language": "python",
   "name": "conda-base-py"
  },
  "language_info": {
   "codemirror_mode": {
    "name": "ipython",
    "version": 3
   },
   "file_extension": ".py",
   "mimetype": "text/x-python",
   "name": "python",
   "nbconvert_exporter": "python",
   "pygments_lexer": "ipython3",
   "version": "3.12.7"
  }
 },
 "nbformat": 4,
 "nbformat_minor": 5
}
