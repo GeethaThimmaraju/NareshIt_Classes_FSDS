{
 "cells": [
  {
   "cell_type": "markdown",
   "id": "d927a349-a3a7-4ee7-8047-d68e8491a2df",
   "metadata": {},
   "source": [
    "# Loops"
   ]
  },
  {
   "cell_type": "code",
   "execution_count": 1,
   "id": "f5419c07-e8a3-4493-bf4b-212e5b38ab36",
   "metadata": {},
   "outputs": [
    {
     "name": "stdout",
     "output_type": "stream",
     "text": [
      "Data science\n"
     ]
    }
   ],
   "source": [
    "if True: # indentation is always 4 spaces\n",
    "    print('Data science')"
   ]
  },
  {
   "cell_type": "code",
   "execution_count": 3,
   "id": "a06f2039-d10b-4f9c-9a55-eeea4c5e727c",
   "metadata": {},
   "outputs": [
    {
     "name": "stdout",
     "output_type": "stream",
     "text": [
      "bye for now\n"
     ]
    }
   ],
   "source": [
    "if False:\n",
    "    print('Data Science')\n",
    "print('bye for now')"
   ]
  },
  {
   "cell_type": "code",
   "execution_count": 5,
   "id": "54884d83-aba0-4fb4-9879-3f176e5fc477",
   "metadata": {},
   "outputs": [
    {
     "name": "stdout",
     "output_type": "stream",
     "text": [
      "Data Science\n",
      "bye for now\n"
     ]
    }
   ],
   "source": [
    "if True:\n",
    "    print('Data Science')\n",
    "print('bye for now')"
   ]
  },
  {
   "cell_type": "code",
   "execution_count": 7,
   "id": "bf347816-4bd1-43cd-9080-593d0cc3dd2f",
   "metadata": {},
   "outputs": [
    {
     "name": "stdout",
     "output_type": "stream",
     "text": [
      "Data Science\n"
     ]
    }
   ],
   "source": [
    "if True:\n",
    "    print('Data Science')\n",
    "else:\n",
    "    print('bye for now')"
   ]
  },
  {
   "cell_type": "code",
   "execution_count": 9,
   "id": "0ddcef0f-0418-4b50-a994-e7f102831dfd",
   "metadata": {},
   "outputs": [
    {
     "name": "stdout",
     "output_type": "stream",
     "text": [
      "bye for now\n"
     ]
    }
   ],
   "source": [
    "if False:\n",
    "    print('Data Science')\n",
    "else:\n",
    "    print('bye for now')"
   ]
  },
  {
   "cell_type": "code",
   "execution_count": 11,
   "id": "1d3e9aef-f55b-4079-8235-97fc3676ea6d",
   "metadata": {},
   "outputs": [
    {
     "name": "stdout",
     "output_type": "stream",
     "text": [
      "Even number\n"
     ]
    }
   ],
   "source": [
    "x = 4\n",
    "r = x % 2 \n",
    "\n",
    "if r == 0:\n",
    "    print('Even number')"
   ]
  },
  {
   "cell_type": "code",
   "execution_count": 15,
   "id": "c4444b4e-1b3f-4ffe-860a-59281247c0c0",
   "metadata": {},
   "outputs": [],
   "source": [
    "x = 5\n",
    "r = x % 2 \n",
    "\n",
    "if r == 0:\n",
    "    print('Even number')"
   ]
  },
  {
   "cell_type": "code",
   "execution_count": 17,
   "id": "80d32716-cfc5-45f9-8102-ab451786cb94",
   "metadata": {},
   "outputs": [
    {
     "name": "stdout",
     "output_type": "stream",
     "text": [
      "odd number\n"
     ]
    }
   ],
   "source": [
    "x = 5\n",
    "r = x % 2 \n",
    "\n",
    "if r == 0:\n",
    "    print('Even number')\n",
    "    \n",
    "if r == 1:\n",
    "    print('odd number')"
   ]
  },
  {
   "cell_type": "code",
   "execution_count": 19,
   "id": "4673638d-9533-4452-88c3-332f9dd55031",
   "metadata": {},
   "outputs": [
    {
     "name": "stdout",
     "output_type": "stream",
     "text": [
      "odd number\n"
     ]
    }
   ],
   "source": [
    "x = 5\n",
    "r = x % 2 \n",
    "\n",
    "if r == 0:\n",
    "    print('Even number')\n",
    "if r != 0:\n",
    "    print('odd number')"
   ]
  },
  {
   "cell_type": "code",
   "execution_count": 21,
   "id": "4fae8d33-c106-488d-8c90-69c89165c742",
   "metadata": {},
   "outputs": [
    {
     "name": "stdout",
     "output_type": "stream",
     "text": [
      "Even number\n"
     ]
    }
   ],
   "source": [
    "x = 4\n",
    "r = x % 2 \n",
    "\n",
    "if r == 0:\n",
    "    print('Even number')\n",
    "else:\n",
    "    print('odd number')"
   ]
  },
  {
   "cell_type": "code",
   "execution_count": 23,
   "id": "a609b4bf-97ff-4e72-ac0e-b95e2ce2d4e5",
   "metadata": {},
   "outputs": [
    {
     "name": "stdout",
     "output_type": "stream",
     "text": [
      "Odd Number\n"
     ]
    }
   ],
   "source": [
    "x = 3\n",
    "r = x % 2\n",
    "\n",
    "if r == 0:\n",
    "    print(' Even number')\n",
    "    if x>5:\n",
    "        print('greater number')\n",
    "else:\n",
    "    print('Odd Number')"
   ]
  },
  {
   "cell_type": "code",
   "execution_count": 25,
   "id": "a04c857a-3060-49fd-97b9-fd2b78c98759",
   "metadata": {},
   "outputs": [
    {
     "name": "stdout",
     "output_type": "stream",
     "text": [
      " Even number\n",
      "lesser number \n"
     ]
    }
   ],
   "source": [
    "x = 4\n",
    "r = x % 2\n",
    "\n",
    "if r == 0:\n",
    "    print(' Even number')\n",
    "    if x>5:\n",
    "        print('greater number')\n",
    "\n",
    "    else:\n",
    "        print('lesser number ')\n",
    "else:\n",
    "    print('Odd Number')"
   ]
  },
  {
   "cell_type": "code",
   "execution_count": 27,
   "id": "5b5fdf9f-8855-4f5b-b5d1-b25b25544490",
   "metadata": {},
   "outputs": [
    {
     "name": "stdout",
     "output_type": "stream",
     "text": [
      "Even number\n",
      "greater number\n"
     ]
    }
   ],
   "source": [
    "x = 6\n",
    "r = x % 2\n",
    "if r == 0:\n",
    "    print('Even number')\n",
    "    if x>5:\n",
    "        print('greater number')\n",
    "    else:\n",
    "        print('not greater')\n",
    "else:\n",
    "    print('Odd Number')    "
   ]
  },
  {
   "cell_type": "code",
   "execution_count": 29,
   "id": "1053ef4a-7b7e-4c31-b4d2-2c48942c9172",
   "metadata": {},
   "outputs": [
    {
     "name": "stdout",
     "output_type": "stream",
     "text": [
      "Two\n"
     ]
    }
   ],
   "source": [
    "x = 2\n",
    "\n",
    "if x == 1:\n",
    "    print('one')\n",
    "if x == 2:\n",
    "    print('Two')\n",
    "if x == 3:\n",
    "    print('Three')\n",
    "if x == 4:\n",
    "    print('four')"
   ]
  },
  {
   "cell_type": "code",
   "execution_count": 31,
   "id": "012392ae-bb4c-4229-8ada-7a9003d37331",
   "metadata": {},
   "outputs": [
    {
     "name": "stdout",
     "output_type": "stream",
     "text": [
      "number not found\n"
     ]
    }
   ],
   "source": [
    "x = 5\n",
    "\n",
    "if x == 1:\n",
    "    print('one')\n",
    "    \n",
    "elif x == 2:\n",
    "    print('Two')\n",
    "elif x == 3:\n",
    "    print('Three')\n",
    "elif x == 4:\n",
    "    print('four')\n",
    "    \n",
    "else:\n",
    "    print('number not found')"
   ]
  },
  {
   "cell_type": "markdown",
   "id": "41761f8d-932c-43ae-92c4-9c83ef807082",
   "metadata": {},
   "source": [
    "# Loops in Python"
   ]
  },
  {
   "cell_type": "code",
   "execution_count": 34,
   "id": "3838e39d-6f70-423b-9ba6-ab1486fe5075",
   "metadata": {},
   "outputs": [
    {
     "name": "stdout",
     "output_type": "stream",
     "text": [
      "data science\n",
      "data science\n",
      "data science\n",
      "data science\n",
      "data science\n"
     ]
    }
   ],
   "source": [
    "print('data science')\n",
    "print('data science')\n",
    "print('data science')\n",
    "print('data science')    \n",
    "print('data science')"
   ]
  },
  {
   "cell_type": "code",
   "execution_count": null,
   "id": "6281ee59-6b92-4a12-bfdd-d0e5818c055e",
   "metadata": {},
   "outputs": [],
   "source": []
  },
  {
   "cell_type": "code",
   "execution_count": 36,
   "id": "2724f5a9-c1f7-453d-b71e-58f005da616c",
   "metadata": {},
   "outputs": [
    {
     "name": "stdout",
     "output_type": "stream",
     "text": [
      "data science\n",
      "data science\n",
      "data science\n",
      "data science\n",
      "data science\n"
     ]
    }
   ],
   "source": [
    "i = 1          # initializing\n",
    "\n",
    "while i<=5:    # condition\n",
    "    print('data science')\n",
    "    i = i + 1  # increment"
   ]
  },
  {
   "cell_type": "code",
   "execution_count": 38,
   "id": "d2195fc5-0a29-4d71-bee9-7f38f0ecf231",
   "metadata": {},
   "outputs": [
    {
     "name": "stdout",
     "output_type": "stream",
     "text": [
      "data science\n",
      "data science\n",
      "data science\n",
      "data science\n",
      "data science\n"
     ]
    }
   ],
   "source": [
    "i = 5          # initializing\n",
    "\n",
    "while i>=1: # condition\n",
    "    print('data science')\n",
    "    i = i - 1  # increment"
   ]
  },
  {
   "cell_type": "code",
   "execution_count": 40,
   "id": "991cf2e3-7dc6-49c9-9fb1-a0096947065a",
   "metadata": {},
   "outputs": [
    {
     "name": "stdout",
     "output_type": "stream",
     "text": [
      "data science\n",
      "technology\n",
      "technology\n",
      "technology\n",
      "technology\n",
      "\n",
      "data science\n",
      "technology\n",
      "technology\n",
      "technology\n",
      "technology\n",
      "\n",
      "data science\n",
      "technology\n",
      "technology\n",
      "technology\n",
      "technology\n",
      "\n",
      "data science\n",
      "technology\n",
      "technology\n",
      "technology\n",
      "technology\n",
      "\n",
      "data science\n",
      "technology\n",
      "technology\n",
      "technology\n",
      "technology\n",
      "\n"
     ]
    }
   ],
   "source": [
    "i = 1\n",
    "while i<=5:\n",
    "    print('data science') # when we mention end then new line will not create\n",
    "    j = 1\n",
    "    while j<=4:\n",
    "        print('technology')\n",
    "        j = j + 1\n",
    "        \n",
    "    i = i + 1\n",
    "    print()\n",
    "    \n",
    "    # the output which we got is very lengty but how to make them one line lets refer to below code"
   ]
  },
  {
   "cell_type": "code",
   "execution_count": 42,
   "id": "ef5e51c5-ab6f-485b-b272-17b98b6fd9f4",
   "metadata": {},
   "outputs": [
    {
     "name": "stdout",
     "output_type": "stream",
     "text": [
      "data science\n",
      "technology\n",
      "technology\n",
      "technology\n",
      "technology\n",
      "\n",
      "data science\n",
      "technology\n",
      "technology\n",
      "technology\n",
      "technology\n",
      "\n",
      "data science\n",
      "technology\n",
      "technology\n",
      "technology\n",
      "technology\n",
      "\n",
      "data science\n",
      "technology\n",
      "technology\n",
      "technology\n",
      "technology\n",
      "\n",
      "data science\n",
      "technology\n",
      "technology\n",
      "technology\n",
      "technology\n",
      "\n"
     ]
    }
   ],
   "source": [
    "i = 1\n",
    "while i<=5:\n",
    "    print('data science') # when we mention end then new line will not create\n",
    "    j = 1\n",
    "    while j<=4:\n",
    "        print('technology')\n",
    "        j = j + 1\n",
    "        \n",
    "    i = i + 1\n",
    "    print()\n",
    "    \n",
    "    # the output which we got is very lengty but how to make them one line lets refer to below code"
   ]
  },
  {
   "cell_type": "code",
   "execution_count": 44,
   "id": "d69709c9-7846-406e-b92e-b9bca7969764",
   "metadata": {},
   "outputs": [
    {
     "name": "stdout",
     "output_type": "stream",
     "text": [
      "0 1 2 3 \n",
      "0 2 4 6 \n",
      "0 3 6 9 \n",
      "0 4 8 12 \n"
     ]
    }
   ],
   "source": [
    "# lets use while loop usig some numbers\n",
    "i = 1\n",
    "while i <= 4 :\n",
    "    j = 0\n",
    "    while  j <= 3 :\n",
    "        print(i*j, end=\" \")\n",
    "        j += 1\n",
    "    print()\n",
    "    i += 1"
   ]
  },
  {
   "cell_type": "code",
   "execution_count": 46,
   "id": "4db9dc41-183e-42d1-8f2f-c61d229c5309",
   "metadata": {},
   "outputs": [
    {
     "name": "stdout",
     "output_type": "stream",
     "text": [
      "n\n",
      "i\n",
      "t\n"
     ]
    }
   ],
   "source": [
    "name = 'nit'\n",
    "for i in name:\n",
    "    print(i)"
   ]
  },
  {
   "cell_type": "code",
   "execution_count": 48,
   "id": "cfaa9792-0764-40b7-bdad-4fe367a240a6",
   "metadata": {},
   "outputs": [
    {
     "name": "stdout",
     "output_type": "stream",
     "text": [
      "1\n",
      "3.5\n",
      "hallo\n"
     ]
    }
   ],
   "source": [
    "name1 = [1,3.5,'hallo'] #i want print the value individualy\n",
    "for i in name1:\n",
    "    print(i)"
   ]
  },
  {
   "cell_type": "code",
   "execution_count": 50,
   "id": "211a54a4-ef23-486f-b57b-d446393b1c34",
   "metadata": {},
   "outputs": [
    {
     "name": "stdout",
     "output_type": "stream",
     "text": [
      "2\n",
      "3\n",
      "7.8\n",
      "hi\n"
     ]
    }
   ],
   "source": [
    "for i in [2, 3, 7.8, 'hi']:\n",
    "    print(i)"
   ]
  },
  {
   "cell_type": "code",
   "execution_count": 52,
   "id": "b3a50aa9-54ca-461f-a7d9-b2b9516df3e4",
   "metadata": {},
   "outputs": [
    {
     "name": "stdout",
     "output_type": "stream",
     "text": [
      "0\n",
      "1\n",
      "2\n",
      "3\n",
      "4\n"
     ]
    }
   ],
   "source": [
    "for i in range(5):\n",
    "    print(i)"
   ]
  },
  {
   "cell_type": "code",
   "execution_count": 54,
   "id": "c97217b9-4e38-4bb2-a47c-6b599586ed2a",
   "metadata": {},
   "outputs": [
    {
     "name": "stdout",
     "output_type": "stream",
     "text": [
      "1\n",
      "4\n",
      "7\n"
     ]
    }
   ],
   "source": [
    "for i in range(1,10,3):\n",
    "    print(i)"
   ]
  },
  {
   "cell_type": "code",
   "execution_count": 56,
   "id": "655f556d-a46e-42f2-b33a-8b197e30df79",
   "metadata": {},
   "outputs": [
    {
     "name": "stdout",
     "output_type": "stream",
     "text": [
      "5\n",
      "10\n",
      "15\n",
      "20\n",
      "25\n",
      "30\n",
      "35\n",
      "40\n",
      "45\n",
      "50\n"
     ]
    }
   ],
   "source": [
    "for i in range(1,51):\n",
    "    \n",
    "    if i%5==0 :\n",
    "        print(i)"
   ]
  },
  {
   "cell_type": "code",
   "execution_count": 58,
   "id": "ea169a66-9eca-4913-adbd-836b4ca27011",
   "metadata": {},
   "outputs": [
    {
     "name": "stdout",
     "output_type": "stream",
     "text": [
      "1\n",
      "2\n",
      "3\n",
      "4\n",
      "6\n",
      "7\n",
      "8\n",
      "9\n",
      "11\n",
      "12\n",
      "13\n",
      "14\n",
      "16\n",
      "17\n",
      "18\n",
      "19\n",
      "21\n",
      "22\n",
      "23\n",
      "24\n",
      "26\n",
      "27\n",
      "28\n",
      "29\n",
      "31\n",
      "32\n",
      "33\n",
      "34\n",
      "36\n",
      "37\n",
      "38\n",
      "39\n",
      "41\n",
      "42\n",
      "43\n",
      "44\n",
      "46\n",
      "47\n",
      "48\n",
      "49\n"
     ]
    }
   ],
   "source": [
    "for i in range(1,51):\n",
    "    \n",
    "    if i%5!=0 :\n",
    "        print(i)"
   ]
  },
  {
   "cell_type": "code",
   "execution_count": 60,
   "id": "7d5e0dfc-55c5-4456-8777-147e9137f564",
   "metadata": {},
   "outputs": [
    {
     "name": "stdout",
     "output_type": "stream",
     "text": [
      "1\n",
      "2\n",
      "3\n",
      "4\n",
      "5\n",
      "6\n",
      "7\n",
      "8\n",
      "9\n",
      "10\n"
     ]
    }
   ],
   "source": [
    "for i in range(1,11):\n",
    "    print(i)"
   ]
  },
  {
   "cell_type": "code",
   "execution_count": 62,
   "id": "fdf61a83-8706-4a22-8915-aa83df40db8c",
   "metadata": {},
   "outputs": [
    {
     "name": "stdout",
     "output_type": "stream",
     "text": [
      "1\n",
      "2\n",
      "3\n",
      "4\n"
     ]
    }
   ],
   "source": [
    "for i in range(1,11):\n",
    "    if i == 5:\n",
    "        break \n",
    "    print(i)"
   ]
  },
  {
   "cell_type": "code",
   "execution_count": 64,
   "id": "0b4c81c3-9e4e-4d6b-ae5b-3a7af80aa5d2",
   "metadata": {},
   "outputs": [
    {
     "name": "stdout",
     "output_type": "stream",
     "text": [
      "1\n",
      "2\n",
      "3\n",
      "4\n",
      "5\n",
      "6\n"
     ]
    }
   ],
   "source": [
    "for i in range(1,11):\n",
    "    if i == 7:\n",
    "        break \n",
    "    print(i)"
   ]
  },
  {
   "cell_type": "code",
   "execution_count": 66,
   "id": "4fe39900-ab26-40e5-8b56-6d62fc1c88bc",
   "metadata": {},
   "outputs": [
    {
     "name": "stdout",
     "output_type": "stream",
     "text": [
      "1\n",
      "2\n",
      "3\n",
      "4\n",
      "5\n",
      "7\n",
      "8\n",
      "9\n",
      "10\n"
     ]
    }
   ],
   "source": [
    "for i in range(1,11):\n",
    "    if i == 6:\n",
    "        continue \n",
    "    print(i)"
   ]
  },
  {
   "cell_type": "code",
   "execution_count": 68,
   "id": "0a87c109-bf5c-45e4-b22e-d32898547323",
   "metadata": {},
   "outputs": [
    {
     "name": "stdout",
     "output_type": "stream",
     "text": [
      "hello  1\n",
      "hello  2\n",
      "hello  3\n",
      "hello  4\n",
      "hello  6\n",
      "hello  7\n",
      "hello  8\n",
      "hello  9\n",
      "hello  10\n"
     ]
    }
   ],
   "source": [
    "for i in range(1,11):\n",
    "    if i == 5:\n",
    "        continue \n",
    "    print('hello ',i)    "
   ]
  },
  {
   "cell_type": "code",
   "execution_count": 70,
   "id": "bdb1104c-0e57-4fe3-a258-9a82dc183a67",
   "metadata": {},
   "outputs": [
    {
     "ename": "SyntaxError",
     "evalue": "incomplete input (2506072061.py, line 1)",
     "output_type": "error",
     "traceback": [
      "\u001b[1;36m  Cell \u001b[1;32mIn[70], line 1\u001b[1;36m\u001b[0m\n\u001b[1;33m    for i in range(1,11):\u001b[0m\n\u001b[1;37m                            ^\u001b[0m\n\u001b[1;31mSyntaxError\u001b[0m\u001b[1;31m:\u001b[0m incomplete input\n"
     ]
    }
   ],
   "source": [
    "for i in range(1,11):   "
   ]
  },
  {
   "cell_type": "code",
   "execution_count": 72,
   "id": "eceb54e8-b325-4d15-8ec8-ee1952974f0f",
   "metadata": {},
   "outputs": [],
   "source": [
    "for i in range(1,11):\n",
    "    pass    "
   ]
  },
  {
   "cell_type": "code",
   "execution_count": 74,
   "id": "a298c90a-cda9-4a37-bebe-794f3c11e7ad",
   "metadata": {},
   "outputs": [
    {
     "name": "stdout",
     "output_type": "stream",
     "text": [
      "3\n",
      "6\n",
      "9\n",
      "12\n",
      "15\n",
      "18\n",
      "21\n",
      "24\n",
      "27\n",
      "30\n",
      "33\n",
      "36\n",
      "39\n",
      "42\n",
      "45\n",
      "48\n",
      "end\n"
     ]
    }
   ],
   "source": [
    "for i in range(1,51):\n",
    "    if i%3 == 0:\n",
    "        print(i)\n",
    "print('end')    "
   ]
  },
  {
   "cell_type": "code",
   "execution_count": 76,
   "id": "0e70468a-4441-4701-a582-908d088c025f",
   "metadata": {},
   "outputs": [
    {
     "name": "stdout",
     "output_type": "stream",
     "text": [
      "1\n",
      "2\n",
      "4\n",
      "5\n",
      "7\n",
      "8\n",
      "10\n",
      "11\n",
      "13\n",
      "14\n",
      "16\n",
      "17\n",
      "19\n",
      "20\n",
      "22\n",
      "23\n",
      "25\n",
      "26\n",
      "28\n",
      "29\n",
      "31\n",
      "32\n",
      "34\n",
      "35\n",
      "37\n",
      "38\n",
      "40\n",
      "41\n",
      "43\n",
      "44\n",
      "46\n",
      "47\n",
      "49\n",
      "end\n"
     ]
    }
   ],
   "source": [
    "for i in range(1,50):\n",
    "    if i%3 == 0:\n",
    "        continue\n",
    "    print(i)\n",
    "print('end')    "
   ]
  },
  {
   "cell_type": "code",
   "execution_count": 78,
   "id": "eee36bbd-e918-4838-ada1-2c6ce84f9bb9",
   "metadata": {},
   "outputs": [
    {
     "name": "stdout",
     "output_type": "stream",
     "text": [
      "1\n",
      "2\n",
      "4\n",
      "7\n",
      "8\n",
      "11\n",
      "13\n",
      "14\n",
      "16\n",
      "17\n",
      "19\n",
      "22\n",
      "23\n",
      "26\n",
      "28\n",
      "29\n",
      "31\n",
      "32\n",
      "34\n",
      "37\n",
      "38\n",
      "41\n",
      "43\n",
      "44\n",
      "46\n",
      "47\n",
      "49\n",
      "end\n"
     ]
    }
   ],
   "source": [
    "for i in range(1,51):\n",
    "    if i%3 == 0 or i%5 == 0:\n",
    "        continue\n",
    "    print(i)\n",
    "print('end')    \n",
    "# it will skip all the value which is divisible by 3 or 5"
   ]
  },
  {
   "cell_type": "code",
   "execution_count": null,
   "id": "23c4c301-11c9-4556-9cff-db78bc329a28",
   "metadata": {},
   "outputs": [],
   "source": [
    "for i in range(1,51):\n",
    "    if i%3 == 0 and i%5 == 0:\n",
    "        continue\n",
    "    print(i)\n",
    "print('end')    \n",
    "# it will skip all the value which is divisible by 3 or 5"
   ]
  },
  {
   "cell_type": "code",
   "execution_count": 80,
   "id": "16483352-3ad5-4995-ac30-1e31339cad1c",
   "metadata": {},
   "outputs": [
    {
     "name": "stdout",
     "output_type": "stream",
     "text": [
      "1\n",
      "3\n",
      "5\n",
      "7\n",
      "9\n",
      "11\n",
      "13\n",
      "15\n",
      "17\n",
      "19\n",
      "21\n",
      "23\n",
      "25\n",
      "27\n",
      "29\n",
      "31\n",
      "33\n",
      "35\n",
      "37\n",
      "39\n",
      "41\n",
      "43\n",
      "45\n",
      "47\n",
      "49\n",
      "bye\n"
     ]
    }
   ],
   "source": [
    "# i dont want to print the values which are odd numbers that means print only even numbers\n",
    "for i in range(1,50):\n",
    "    \n",
    "    if (i%2 == 0):\n",
    "        pass\n",
    "    else:\n",
    "        print(i)\n",
    "print('bye')"
   ]
  },
  {
   "cell_type": "code",
   "execution_count": 82,
   "id": "d36ce6b1-c4f2-4d38-ae9b-ef7563c6362c",
   "metadata": {},
   "outputs": [
    {
     "name": "stdout",
     "output_type": "stream",
     "text": [
      "# # # #\n",
      "# # # #\n",
      "# # # #\n",
      "# # # #\n"
     ]
    }
   ],
   "source": [
    "print('# # # #')\n",
    "print('# # # #')\n",
    "print('# # # #')\n",
    "print('# # # #')"
   ]
  },
  {
   "cell_type": "code",
   "execution_count": 84,
   "id": "f87a7b4d-2124-4585-b52c-31980ef2e487",
   "metadata": {},
   "outputs": [
    {
     "name": "stdout",
     "output_type": "stream",
     "text": [
      "# # # # "
     ]
    }
   ],
   "source": [
    "for j in range(4):\n",
    "    print('#', end=\" \")"
   ]
  },
  {
   "cell_type": "code",
   "execution_count": 86,
   "id": "0ac27fb7-0732-4a35-b189-78c941491880",
   "metadata": {},
   "outputs": [
    {
     "name": "stdout",
     "output_type": "stream",
     "text": [
      "# # # # \n",
      "# # # # "
     ]
    }
   ],
   "source": [
    "for j in range(4):\n",
    "    print('#', end=\" \")\n",
    "    \n",
    "print()\n",
    "\n",
    "for j in range(4):\n",
    "    print('#', end=\" \")"
   ]
  },
  {
   "cell_type": "code",
   "execution_count": 88,
   "id": "97b64624-76b1-4b47-80c0-bec064674ee5",
   "metadata": {},
   "outputs": [
    {
     "name": "stdout",
     "output_type": "stream",
     "text": [
      "# # # # \n",
      "# # # # \n",
      "# # # # \n",
      "# # # # "
     ]
    }
   ],
   "source": [
    "for j in range(4):\n",
    "    print('#', end=\" \")\n",
    "    \n",
    "print()\n",
    "\n",
    "for j in range(4):\n",
    "    print('#', end=\" \")\n",
    "print()\n",
    "    \n",
    "for j in range(4):\n",
    "    print('#', end=\" \")\n",
    "    \n",
    "print()\n",
    "\n",
    "for j in range(4):\n",
    "    print('#', end=\" \")"
   ]
  },
  {
   "cell_type": "code",
   "execution_count": 90,
   "id": "9406d485-5f48-4e5e-b864-d19590623eeb",
   "metadata": {},
   "outputs": [
    {
     "name": "stdout",
     "output_type": "stream",
     "text": [
      "#  #  #  #  \n",
      "#  #  #  #  \n",
      "#  #  #  #  \n",
      "#  #  #  #  \n"
     ]
    }
   ],
   "source": [
    "for i in range(4):\n",
    "    for j in range(4):\n",
    "        print('#', end=\"  \")\n",
    "    print()\n",
    "    # pease use debug mode in pycharm"
   ]
  },
  {
   "cell_type": "code",
   "execution_count": null,
   "id": "5cc0da39-0e3c-4caf-ac2b-4b7892f63e78",
   "metadata": {},
   "outputs": [],
   "source": []
  }
 ],
 "metadata": {
  "kernelspec": {
   "display_name": "Python [conda env:base] *",
   "language": "python",
   "name": "conda-base-py"
  },
  "language_info": {
   "codemirror_mode": {
    "name": "ipython",
    "version": 3
   },
   "file_extension": ".py",
   "mimetype": "text/x-python",
   "name": "python",
   "nbconvert_exporter": "python",
   "pygments_lexer": "ipython3",
   "version": "3.12.7"
  }
 },
 "nbformat": 4,
 "nbformat_minor": 5
}
