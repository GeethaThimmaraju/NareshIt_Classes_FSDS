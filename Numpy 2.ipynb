{
 "cells": [
  {
   "cell_type": "markdown",
   "id": "a0a021a8-ec48-4c11-97ef-ca5cfc624527",
   "metadata": {},
   "source": [
    "# 1st May"
   ]
  },
  {
   "cell_type": "markdown",
   "id": "e077b97d-72dd-45ef-81b1-1424f56607c8",
   "metadata": {},
   "source": [
    "# Slicing in Matrix"
   ]
  },
  {
   "cell_type": "code",
   "execution_count": 4,
   "id": "3928afd4-5abe-499c-b29a-7d79a5f088a1",
   "metadata": {},
   "outputs": [],
   "source": [
    "import numpy as np"
   ]
  },
  {
   "cell_type": "code",
   "execution_count": 14,
   "id": "92cf68a9-36fa-446f-9528-83f2be4cacc0",
   "metadata": {},
   "outputs": [
    {
     "data": {
      "text/plain": [
       "'1.26.4'"
      ]
     },
     "execution_count": 14,
     "metadata": {},
     "output_type": "execute_result"
    }
   ],
   "source": [
    "np.__version__"
   ]
  },
  {
   "cell_type": "code",
   "execution_count": 6,
   "id": "6eb48361-5416-4898-91a1-fd901b67976b",
   "metadata": {},
   "outputs": [
    {
     "data": {
      "text/plain": [
       "array([[15, 16, 15, 16],\n",
       "       [16, 12, 19, 18],\n",
       "       [15, 19, 16, 13],\n",
       "       [17, 12, 10, 12],\n",
       "       [19, 12, 12, 12]])"
      ]
     },
     "execution_count": 6,
     "metadata": {},
     "output_type": "execute_result"
    }
   ],
   "source": [
    "\n",
    "b = np.random.randint(10,20,(5,4))\n",
    "b"
   ]
  },
  {
   "cell_type": "code",
   "execution_count": 8,
   "id": "5359851e-0627-4739-a646-0126f04dc223",
   "metadata": {},
   "outputs": [
    {
     "data": {
      "text/plain": [
       "array([[15, 16, 15, 16],\n",
       "       [16, 12, 19, 18],\n",
       "       [15, 19, 16, 13],\n",
       "       [17, 12, 10, 12],\n",
       "       [19, 12, 12, 12]])"
      ]
     },
     "execution_count": 8,
     "metadata": {},
     "output_type": "execute_result"
    }
   ],
   "source": [
    "b[:]"
   ]
  },
  {
   "cell_type": "code",
   "execution_count": 10,
   "id": "aa173ee0-3af6-477b-b726-59cdbdb5a6c3",
   "metadata": {},
   "outputs": [
    {
     "data": {
      "text/plain": [
       "array([[15, 16, 15, 16],\n",
       "       [16, 12, 19, 18]])"
      ]
     },
     "execution_count": 10,
     "metadata": {},
     "output_type": "execute_result"
    }
   ],
   "source": [
    "b[0:2]"
   ]
  },
  {
   "cell_type": "code",
   "execution_count": 12,
   "id": "fdca130c-7eeb-4f87-9115-67e4d238bda5",
   "metadata": {},
   "outputs": [
    {
     "data": {
      "text/plain": [
       "array([[15, 16, 15, 16],\n",
       "       [16, 12, 19, 18],\n",
       "       [15, 19, 16, 13],\n",
       "       [17, 12, 10, 12],\n",
       "       [19, 12, 12, 12]])"
      ]
     },
     "execution_count": 12,
     "metadata": {},
     "output_type": "execute_result"
    }
   ],
   "source": [
    "b"
   ]
  },
  {
   "cell_type": "code",
   "execution_count": 18,
   "id": "dd2db80d-2eb6-4ddc-a8b5-d43154becd35",
   "metadata": {},
   "outputs": [
    {
     "data": {
      "text/plain": [
       "array([[16, 12, 19, 18],\n",
       "       [15, 19, 16, 13]])"
      ]
     },
     "execution_count": 18,
     "metadata": {},
     "output_type": "execute_result"
    }
   ],
   "source": [
    "b[1:3]"
   ]
  },
  {
   "cell_type": "code",
   "execution_count": 16,
   "id": "3dfc2ece-c093-4130-b67c-4558e045845f",
   "metadata": {},
   "outputs": [
    {
     "data": {
      "text/plain": [
       "array([[15, 16, 15, 16],\n",
       "       [16, 12, 19, 18],\n",
       "       [15, 19, 16, 13],\n",
       "       [17, 12, 10, 12]])"
      ]
     },
     "execution_count": 16,
     "metadata": {},
     "output_type": "execute_result"
    }
   ],
   "source": [
    "b[0:-1]"
   ]
  },
  {
   "cell_type": "code",
   "execution_count": 20,
   "id": "20b22013-d040-4495-8ac4-6337a3c65ff6",
   "metadata": {},
   "outputs": [
    {
     "data": {
      "text/plain": [
       "array([], shape=(0, 4), dtype=int32)"
      ]
     },
     "execution_count": 20,
     "metadata": {},
     "output_type": "execute_result"
    }
   ],
   "source": [
    "b[2:-3]"
   ]
  },
  {
   "cell_type": "code",
   "execution_count": 22,
   "id": "76cf8b3c-6b84-4bfd-811b-103c9e0b29ed",
   "metadata": {},
   "outputs": [
    {
     "data": {
      "text/plain": [
       "array([[15, 16, 15, 16],\n",
       "       [16, 12, 19, 18],\n",
       "       [15, 19, 16, 13],\n",
       "       [17, 12, 10, 12],\n",
       "       [19, 12, 12, 12]])"
      ]
     },
     "execution_count": 22,
     "metadata": {},
     "output_type": "execute_result"
    }
   ],
   "source": [
    "b"
   ]
  },
  {
   "cell_type": "code",
   "execution_count": 24,
   "id": "af1cb11e-4a67-4855-b98d-b4a8f7d012a1",
   "metadata": {},
   "outputs": [
    {
     "data": {
      "text/plain": [
       "15"
      ]
     },
     "execution_count": 24,
     "metadata": {},
     "output_type": "execute_result"
    }
   ],
   "source": [
    "b[0,2]"
   ]
  },
  {
   "cell_type": "code",
   "execution_count": 28,
   "id": "54950c83-76aa-40f5-b32f-703b8b39e851",
   "metadata": {},
   "outputs": [],
   "source": [
    "c = np.random.randint(10,20,(4,4))"
   ]
  },
  {
   "cell_type": "code",
   "execution_count": 30,
   "id": "3b2da73d-3475-4429-a25d-767d508574f6",
   "metadata": {},
   "outputs": [
    {
     "data": {
      "text/plain": [
       "array([[14, 10, 14, 18],\n",
       "       [17, 15, 11, 14],\n",
       "       [11, 12, 15, 12],\n",
       "       [16, 16, 13, 18]])"
      ]
     },
     "execution_count": 30,
     "metadata": {},
     "output_type": "execute_result"
    }
   ],
   "source": [
    "c"
   ]
  },
  {
   "cell_type": "code",
   "execution_count": 32,
   "id": "3d4c1575-94ae-4a52-836c-6735aaa3e347",
   "metadata": {},
   "outputs": [
    {
     "data": {
      "text/plain": [
       "array([[11, 12, 15, 12],\n",
       "       [16, 16, 13, 18]])"
      ]
     },
     "execution_count": 32,
     "metadata": {},
     "output_type": "execute_result"
    }
   ],
   "source": [
    "c[2:4]"
   ]
  },
  {
   "cell_type": "code",
   "execution_count": 34,
   "id": "8e96033e-e3f6-4b7b-97c7-2af02f79161e",
   "metadata": {},
   "outputs": [
    {
     "data": {
      "text/plain": [
       "array([[14, 10, 14, 18],\n",
       "       [17, 15, 11, 14],\n",
       "       [11, 12, 15, 12]])"
      ]
     },
     "execution_count": 34,
     "metadata": {},
     "output_type": "execute_result"
    }
   ],
   "source": [
    "c[:-1]"
   ]
  },
  {
   "cell_type": "code",
   "execution_count": 36,
   "id": "370bb511-bd54-4217-aca2-d198640c0785",
   "metadata": {},
   "outputs": [
    {
     "data": {
      "text/plain": [
       "array([[14, 10, 14, 18],\n",
       "       [17, 15, 11, 14],\n",
       "       [11, 12, 15, 12],\n",
       "       [16, 16, 13, 18]])"
      ]
     },
     "execution_count": 36,
     "metadata": {},
     "output_type": "execute_result"
    }
   ],
   "source": [
    "c"
   ]
  },
  {
   "cell_type": "code",
   "execution_count": 39,
   "id": "ece8923f-3993-4fe0-bccc-edc418412f9b",
   "metadata": {},
   "outputs": [
    {
     "data": {
      "text/plain": [
       "array([], shape=(0, 4), dtype=int32)"
      ]
     },
     "execution_count": 39,
     "metadata": {},
     "output_type": "execute_result"
    }
   ],
   "source": [
    "c[-3:1]"
   ]
  },
  {
   "cell_type": "code",
   "execution_count": 41,
   "id": "ad09d212-c852-4532-93e3-80d6e4fd5414",
   "metadata": {},
   "outputs": [
    {
     "data": {
      "text/plain": [
       "array([[17, 15, 11, 14]])"
      ]
     },
     "execution_count": 41,
     "metadata": {},
     "output_type": "execute_result"
    }
   ],
   "source": [
    "c[-3:2]"
   ]
  },
  {
   "cell_type": "code",
   "execution_count": 45,
   "id": "42df9c92-57ee-4ff3-800e-585cf62083b4",
   "metadata": {},
   "outputs": [
    {
     "data": {
      "text/plain": [
       "array([[14, 10, 14, 18],\n",
       "       [17, 15, 11, 14],\n",
       "       [11, 12, 15, 12],\n",
       "       [16, 16, 13, 18]])"
      ]
     },
     "execution_count": 45,
     "metadata": {},
     "output_type": "execute_result"
    }
   ],
   "source": [
    "c"
   ]
  },
  {
   "cell_type": "code",
   "execution_count": 47,
   "id": "257f0476-3649-4250-a336-0d6b1148adab",
   "metadata": {},
   "outputs": [
    {
     "data": {
      "text/plain": [
       "12"
      ]
     },
     "execution_count": 47,
     "metadata": {},
     "output_type": "execute_result"
    }
   ],
   "source": [
    "c[2,3]"
   ]
  },
  {
   "cell_type": "code",
   "execution_count": 49,
   "id": "740bfaa0-351e-4654-a1d3-96eacaf99406",
   "metadata": {},
   "outputs": [
    {
     "data": {
      "text/plain": [
       "13"
      ]
     },
     "execution_count": 49,
     "metadata": {},
     "output_type": "execute_result"
    }
   ],
   "source": [
    "c[3,2]"
   ]
  },
  {
   "cell_type": "code",
   "execution_count": 51,
   "id": "5dba2b01-dc2b-4397-952d-7182aca891a9",
   "metadata": {},
   "outputs": [
    {
     "data": {
      "text/plain": [
       "12"
      ]
     },
     "execution_count": 51,
     "metadata": {},
     "output_type": "execute_result"
    }
   ],
   "source": [
    "c[-2,-3]"
   ]
  },
  {
   "cell_type": "markdown",
   "id": "1b01a311-77b7-4908-8234-2222b5efdbc0",
   "metadata": {},
   "source": [
    "# Operations"
   ]
  },
  {
   "cell_type": "code",
   "execution_count": 54,
   "id": "7c1a2d2f-575d-4f66-ad24-767230f78bfd",
   "metadata": {},
   "outputs": [
    {
     "data": {
      "text/plain": [
       "array([15, 19, 17, 15, 19])"
      ]
     },
     "execution_count": 54,
     "metadata": {},
     "output_type": "execute_result"
    }
   ],
   "source": [
    "a = np.random.randint(10,20,5)\n",
    "a"
   ]
  },
  {
   "cell_type": "code",
   "execution_count": 70,
   "id": "eff71cb5-1508-4a2f-af53-f0176881ad74",
   "metadata": {},
   "outputs": [
    {
     "data": {
      "text/plain": [
       "array([0, 1, 2, 3, 4, 5])"
      ]
     },
     "execution_count": 70,
     "metadata": {},
     "output_type": "execute_result"
    }
   ],
   "source": [
    "np.arange(6)"
   ]
  },
  {
   "cell_type": "code",
   "execution_count": 84,
   "id": "24cea7b2-5fc2-4390-a1e0-d3735949e122",
   "metadata": {},
   "outputs": [
    {
     "data": {
      "text/plain": [
       "[0, 1, 2, 3, 4, 5]"
      ]
     },
     "execution_count": 84,
     "metadata": {},
     "output_type": "execute_result"
    }
   ],
   "source": [
    "l1 = [0,1,2,3,4,5]\n",
    "l1"
   ]
  },
  {
   "cell_type": "code",
   "execution_count": 86,
   "id": "0668d431-f3b2-4b0e-9c48-18549e84463c",
   "metadata": {},
   "outputs": [
    {
     "data": {
      "text/plain": [
       "list"
      ]
     },
     "execution_count": 86,
     "metadata": {},
     "output_type": "execute_result"
    }
   ],
   "source": [
    "type(l1)\n"
   ]
  },
  {
   "cell_type": "code",
   "execution_count": 88,
   "id": "be392608-cd4e-4408-9fa9-7c65e28d5d3c",
   "metadata": {},
   "outputs": [],
   "source": [
    "arr = np.array(l1)"
   ]
  },
  {
   "cell_type": "code",
   "execution_count": 90,
   "id": "48c5acd0-2e7a-49e6-817a-c0c72da8f2d4",
   "metadata": {},
   "outputs": [
    {
     "data": {
      "text/plain": [
       "array([0, 1, 2, 3, 4, 5])"
      ]
     },
     "execution_count": 90,
     "metadata": {},
     "output_type": "execute_result"
    }
   ],
   "source": [
    "arr"
   ]
  },
  {
   "cell_type": "code",
   "execution_count": 94,
   "id": "31c3af17-7fec-40d6-b240-e35a654cfafa",
   "metadata": {},
   "outputs": [],
   "source": [
    "arr2 = np.random.randint(0,100,(10,10))"
   ]
  },
  {
   "cell_type": "code",
   "execution_count": 96,
   "id": "aa84a9e1-e460-4340-ac5d-7a1891745f14",
   "metadata": {},
   "outputs": [
    {
     "data": {
      "text/plain": [
       "array([[71, 28, 53, 92, 70, 66, 30, 87, 18,  5],\n",
       "       [11,  0, 12, 16, 12, 80, 45, 15, 77, 18],\n",
       "       [43, 62, 46, 35, 14, 13, 45, 32, 28, 74],\n",
       "       [40, 80, 90, 34, 11, 74, 96, 20,  2, 78],\n",
       "       [59, 77,  1,  5, 63, 31, 64, 12, 23, 68],\n",
       "       [71, 97, 49, 44,  3, 42, 41, 44, 23, 96],\n",
       "       [ 6, 39, 32, 95, 81,  8, 85, 60, 10, 16],\n",
       "       [12, 77, 67, 78, 33, 22, 79, 84, 44, 87],\n",
       "       [62, 61, 27, 19, 12, 32, 27, 40, 21, 57],\n",
       "       [33, 42, 93,  5, 79, 85, 16, 49, 25, 63]])"
      ]
     },
     "execution_count": 96,
     "metadata": {},
     "output_type": "execute_result"
    }
   ],
   "source": [
    "arr2"
   ]
  },
  {
   "cell_type": "code",
   "execution_count": 98,
   "id": "5e61acd8-b1a2-49d4-bb48-608529820c57",
   "metadata": {},
   "outputs": [
    {
     "data": {
      "text/plain": [
       "array([0, 1, 2, 3, 4, 5])"
      ]
     },
     "execution_count": 98,
     "metadata": {},
     "output_type": "execute_result"
    }
   ],
   "source": [
    "arr"
   ]
  },
  {
   "cell_type": "code",
   "execution_count": 100,
   "id": "1adae5e5-8df9-4d9a-a419-1bee84aebe21",
   "metadata": {},
   "outputs": [
    {
     "data": {
      "text/plain": [
       "array([0, 1, 2, 3, 4, 5])"
      ]
     },
     "execution_count": 100,
     "metadata": {},
     "output_type": "execute_result"
    }
   ],
   "source": [
    "arr[:]"
   ]
  },
  {
   "cell_type": "code",
   "execution_count": 102,
   "id": "dd228421-5d30-4f18-ade8-9c66138d7106",
   "metadata": {},
   "outputs": [
    {
     "data": {
      "text/plain": [
       "array([0, 1, 2, 3])"
      ]
     },
     "execution_count": 102,
     "metadata": {},
     "output_type": "execute_result"
    }
   ],
   "source": [
    "arr[:4]"
   ]
  },
  {
   "cell_type": "code",
   "execution_count": 104,
   "id": "1488b023-c3c4-45bf-a4e7-1714b745ed21",
   "metadata": {},
   "outputs": [
    {
     "data": {
      "text/plain": [
       "array([[71, 28, 53, 92, 70, 66, 30, 87, 18,  5],\n",
       "       [11,  0, 12, 16, 12, 80, 45, 15, 77, 18],\n",
       "       [43, 62, 46, 35, 14, 13, 45, 32, 28, 74],\n",
       "       [40, 80, 90, 34, 11, 74, 96, 20,  2, 78],\n",
       "       [59, 77,  1,  5, 63, 31, 64, 12, 23, 68],\n",
       "       [71, 97, 49, 44,  3, 42, 41, 44, 23, 96],\n",
       "       [ 6, 39, 32, 95, 81,  8, 85, 60, 10, 16],\n",
       "       [12, 77, 67, 78, 33, 22, 79, 84, 44, 87],\n",
       "       [62, 61, 27, 19, 12, 32, 27, 40, 21, 57],\n",
       "       [33, 42, 93,  5, 79, 85, 16, 49, 25, 63]])"
      ]
     },
     "execution_count": 104,
     "metadata": {},
     "output_type": "execute_result"
    }
   ],
   "source": [
    "arr2[:]"
   ]
  },
  {
   "cell_type": "code",
   "execution_count": 108,
   "id": "ce40fd0e-bb19-4202-9c6f-b0340d75b957",
   "metadata": {},
   "outputs": [
    {
     "data": {
      "text/plain": [
       "array([[71, 28, 53, 92, 70, 66, 30, 87, 18,  5],\n",
       "       [11,  0, 12, 16, 12, 80, 45, 15, 77, 18]])"
      ]
     },
     "execution_count": 108,
     "metadata": {},
     "output_type": "execute_result"
    }
   ],
   "source": [
    "arr2[0:2]"
   ]
  },
  {
   "cell_type": "code",
   "execution_count": 110,
   "id": "4e42edc1-eaac-4ec5-a836-d374fce14bde",
   "metadata": {},
   "outputs": [
    {
     "data": {
      "text/plain": [
       "array([[71, 28, 53, 92, 70, 66, 30, 87, 18,  5],\n",
       "       [11,  0, 12, 16, 12, 80, 45, 15, 77, 18],\n",
       "       [43, 62, 46, 35, 14, 13, 45, 32, 28, 74],\n",
       "       [40, 80, 90, 34, 11, 74, 96, 20,  2, 78],\n",
       "       [59, 77,  1,  5, 63, 31, 64, 12, 23, 68],\n",
       "       [71, 97, 49, 44,  3, 42, 41, 44, 23, 96]])"
      ]
     },
     "execution_count": 110,
     "metadata": {},
     "output_type": "execute_result"
    }
   ],
   "source": [
    "arr2[0:6]"
   ]
  },
  {
   "cell_type": "code",
   "execution_count": 112,
   "id": "8918c661-b986-46d7-8fea-74d603b1f1b7",
   "metadata": {},
   "outputs": [
    {
     "data": {
      "text/plain": [
       "array([[71, 28, 53, 92, 70, 66, 30, 87, 18,  5],\n",
       "       [11,  0, 12, 16, 12, 80, 45, 15, 77, 18],\n",
       "       [43, 62, 46, 35, 14, 13, 45, 32, 28, 74],\n",
       "       [40, 80, 90, 34, 11, 74, 96, 20,  2, 78],\n",
       "       [59, 77,  1,  5, 63, 31, 64, 12, 23, 68],\n",
       "       [71, 97, 49, 44,  3, 42, 41, 44, 23, 96],\n",
       "       [ 6, 39, 32, 95, 81,  8, 85, 60, 10, 16],\n",
       "       [12, 77, 67, 78, 33, 22, 79, 84, 44, 87],\n",
       "       [62, 61, 27, 19, 12, 32, 27, 40, 21, 57],\n",
       "       [33, 42, 93,  5, 79, 85, 16, 49, 25, 63]])"
      ]
     },
     "execution_count": 112,
     "metadata": {},
     "output_type": "execute_result"
    }
   ],
   "source": [
    "arr2"
   ]
  },
  {
   "cell_type": "code",
   "execution_count": 114,
   "id": "edb2fad5-214d-4c1e-9e98-3e7c754ca013",
   "metadata": {},
   "outputs": [
    {
     "data": {
      "text/plain": [
       "array([[59, 77,  1,  5, 63, 31, 64, 12, 23, 68],\n",
       "       [71, 97, 49, 44,  3, 42, 41, 44, 23, 96],\n",
       "       [ 6, 39, 32, 95, 81,  8, 85, 60, 10, 16],\n",
       "       [12, 77, 67, 78, 33, 22, 79, 84, 44, 87]])"
      ]
     },
     "execution_count": 114,
     "metadata": {},
     "output_type": "execute_result"
    }
   ],
   "source": [
    "arr2[4:-2]"
   ]
  },
  {
   "cell_type": "code",
   "execution_count": 126,
   "id": "aa9154ce-dba7-424b-9848-e8b096e95329",
   "metadata": {},
   "outputs": [
    {
     "data": {
      "text/plain": [
       "array([[11,  0, 12, 16, 12, 80, 45, 15, 77, 18],\n",
       "       [43, 62, 46, 35, 14, 13, 45, 32, 28, 74],\n",
       "       [40, 80, 90, 34, 11, 74, 96, 20,  2, 78],\n",
       "       [59, 77,  1,  5, 63, 31, 64, 12, 23, 68]])"
      ]
     },
     "execution_count": 126,
     "metadata": {},
     "output_type": "execute_result"
    }
   ],
   "source": [
    "arr2[1:-5]"
   ]
  },
  {
   "cell_type": "code",
   "execution_count": 130,
   "id": "d8489520-4a63-498d-a1b0-68601dd07327",
   "metadata": {},
   "outputs": [
    {
     "data": {
      "text/plain": [
       "array([[11,  0, 12, 16, 12, 80, 45, 15, 77, 18],\n",
       "       [43, 62, 46, 35, 14, 13, 45, 32, 28, 74],\n",
       "       [40, 80, 90, 34, 11, 74, 96, 20,  2, 78],\n",
       "       [59, 77,  1,  5, 63, 31, 64, 12, 23, 68]])"
      ]
     },
     "execution_count": 130,
     "metadata": {},
     "output_type": "execute_result"
    }
   ],
   "source": [
    "arr2[1:5]"
   ]
  },
  {
   "cell_type": "code",
   "execution_count": 133,
   "id": "cc0c7142-4c10-41fb-bc1a-a0be3e8e32f8",
   "metadata": {},
   "outputs": [
    {
     "data": {
      "text/plain": [
       "array([[43, 62, 46, 35, 14, 13, 45, 32, 28, 74],\n",
       "       [40, 80, 90, 34, 11, 74, 96, 20,  2, 78],\n",
       "       [59, 77,  1,  5, 63, 31, 64, 12, 23, 68],\n",
       "       [71, 97, 49, 44,  3, 42, 41, 44, 23, 96],\n",
       "       [ 6, 39, 32, 95, 81,  8, 85, 60, 10, 16]])"
      ]
     },
     "execution_count": 133,
     "metadata": {},
     "output_type": "execute_result"
    }
   ],
   "source": [
    " arr2[2:7]"
   ]
  },
  {
   "cell_type": "code",
   "execution_count": 136,
   "id": "368705ce-cffe-4dfc-b455-4c3f127bf928",
   "metadata": {},
   "outputs": [
    {
     "data": {
      "text/plain": [
       "array([], dtype=int32)"
      ]
     },
     "execution_count": 136,
     "metadata": {},
     "output_type": "execute_result"
    }
   ],
   "source": [
    "arr[-3:2]"
   ]
  },
  {
   "cell_type": "code",
   "execution_count": 138,
   "id": "903a067f-7529-46a6-bd5c-aa1e4d99a142",
   "metadata": {},
   "outputs": [
    {
     "data": {
      "text/plain": [
       "array([[71, 28, 53, 92, 70, 66, 30, 87, 18,  5],\n",
       "       [11,  0, 12, 16, 12, 80, 45, 15, 77, 18],\n",
       "       [43, 62, 46, 35, 14, 13, 45, 32, 28, 74],\n",
       "       [40, 80, 90, 34, 11, 74, 96, 20,  2, 78],\n",
       "       [59, 77,  1,  5, 63, 31, 64, 12, 23, 68],\n",
       "       [71, 97, 49, 44,  3, 42, 41, 44, 23, 96],\n",
       "       [ 6, 39, 32, 95, 81,  8, 85, 60, 10, 16],\n",
       "       [12, 77, 67, 78, 33, 22, 79, 84, 44, 87],\n",
       "       [62, 61, 27, 19, 12, 32, 27, 40, 21, 57],\n",
       "       [33, 42, 93,  5, 79, 85, 16, 49, 25, 63]])"
      ]
     },
     "execution_count": 138,
     "metadata": {},
     "output_type": "execute_result"
    }
   ],
   "source": [
    "arr2"
   ]
  },
  {
   "cell_type": "code",
   "execution_count": 140,
   "id": "ca066378-e12a-4907-a2c6-a3ed786f8957",
   "metadata": {},
   "outputs": [
    {
     "data": {
      "text/plain": [
       "32"
      ]
     },
     "execution_count": 140,
     "metadata": {},
     "output_type": "execute_result"
    }
   ],
   "source": [
    "arr2[2,7]"
   ]
  },
  {
   "cell_type": "code",
   "execution_count": 142,
   "id": "33cf5f4a-9830-4de2-b9ac-22642277a967",
   "metadata": {},
   "outputs": [
    {
     "data": {
      "text/plain": [
       "23"
      ]
     },
     "execution_count": 142,
     "metadata": {},
     "output_type": "execute_result"
    }
   ],
   "source": [
    "arr2[5,-2]"
   ]
  },
  {
   "cell_type": "code",
   "execution_count": 144,
   "id": "884ff3be-cb16-4214-a038-3c17cc5daac2",
   "metadata": {},
   "outputs": [
    {
     "data": {
      "text/plain": [
       "22"
      ]
     },
     "execution_count": 144,
     "metadata": {},
     "output_type": "execute_result"
    }
   ],
   "source": [
    "arr2[-3,-5]"
   ]
  },
  {
   "cell_type": "code",
   "execution_count": 146,
   "id": "8b98cc42-189f-41ea-a04f-454fbba4e442",
   "metadata": {},
   "outputs": [
    {
     "data": {
      "text/plain": [
       "array([[71, 28, 53, 92, 70, 66, 30, 87, 18,  5],\n",
       "       [11,  0, 12, 16, 12, 80, 45, 15, 77, 18],\n",
       "       [43, 62, 46, 35, 14, 13, 45, 32, 28, 74],\n",
       "       [40, 80, 90, 34, 11, 74, 96, 20,  2, 78],\n",
       "       [59, 77,  1,  5, 63, 31, 64, 12, 23, 68],\n",
       "       [71, 97, 49, 44,  3, 42, 41, 44, 23, 96],\n",
       "       [ 6, 39, 32, 95, 81,  8, 85, 60, 10, 16],\n",
       "       [12, 77, 67, 78, 33, 22, 79, 84, 44, 87],\n",
       "       [62, 61, 27, 19, 12, 32, 27, 40, 21, 57],\n",
       "       [33, 42, 93,  5, 79, 85, 16, 49, 25, 63]])"
      ]
     },
     "execution_count": 146,
     "metadata": {},
     "output_type": "execute_result"
    }
   ],
   "source": [
    "arr2"
   ]
  },
  {
   "cell_type": "code",
   "execution_count": 150,
   "id": "026e37d9-5e2f-4dd8-a143-77a9cb47f887",
   "metadata": {},
   "outputs": [
    {
     "data": {
      "text/plain": [
       "array([[33, 42, 93,  5, 79, 85, 16, 49, 25, 63],\n",
       "       [62, 61, 27, 19, 12, 32, 27, 40, 21, 57],\n",
       "       [12, 77, 67, 78, 33, 22, 79, 84, 44, 87],\n",
       "       [ 6, 39, 32, 95, 81,  8, 85, 60, 10, 16],\n",
       "       [71, 97, 49, 44,  3, 42, 41, 44, 23, 96],\n",
       "       [59, 77,  1,  5, 63, 31, 64, 12, 23, 68],\n",
       "       [40, 80, 90, 34, 11, 74, 96, 20,  2, 78],\n",
       "       [43, 62, 46, 35, 14, 13, 45, 32, 28, 74],\n",
       "       [11,  0, 12, 16, 12, 80, 45, 15, 77, 18],\n",
       "       [71, 28, 53, 92, 70, 66, 30, 87, 18,  5]])"
      ]
     },
     "execution_count": 150,
     "metadata": {},
     "output_type": "execute_result"
    }
   ],
   "source": [
    "arr2[::-1]  # Advanced slicing"
   ]
  },
  {
   "cell_type": "code",
   "execution_count": 154,
   "id": "302d50d0-38a3-45b1-911d-d14274c25b9c",
   "metadata": {},
   "outputs": [
    {
     "data": {
      "text/plain": [
       "array([[71, 28, 53, 92, 70, 66, 30, 87, 18,  5],\n",
       "       [11,  0, 12, 16, 12, 80, 45, 15, 77, 18],\n",
       "       [43, 62, 46, 35, 14, 13, 45, 32, 28, 74],\n",
       "       [40, 80, 90, 34, 11, 74, 96, 20,  2, 78],\n",
       "       [59, 77,  1,  5, 63, 31, 64, 12, 23, 68],\n",
       "       [71, 97, 49, 44,  3, 42, 41, 44, 23, 96],\n",
       "       [ 6, 39, 32, 95, 81,  8, 85, 60, 10, 16],\n",
       "       [12, 77, 67, 78, 33, 22, 79, 84, 44, 87],\n",
       "       [62, 61, 27, 19, 12, 32, 27, 40, 21, 57],\n",
       "       [33, 42, 93,  5, 79, 85, 16, 49, 25, 63]])"
      ]
     },
     "execution_count": 154,
     "metadata": {},
     "output_type": "execute_result"
    }
   ],
   "source": [
    "arr2"
   ]
  },
  {
   "cell_type": "code",
   "execution_count": 156,
   "id": "13261099-c87e-4e54-bc13-ebf04df805c2",
   "metadata": {},
   "outputs": [
    {
     "data": {
      "text/plain": [
       "array([[71, 28, 53, 92, 70, 66, 30, 87, 18,  5],\n",
       "       [43, 62, 46, 35, 14, 13, 45, 32, 28, 74],\n",
       "       [59, 77,  1,  5, 63, 31, 64, 12, 23, 68],\n",
       "       [ 6, 39, 32, 95, 81,  8, 85, 60, 10, 16],\n",
       "       [62, 61, 27, 19, 12, 32, 27, 40, 21, 57]])"
      ]
     },
     "execution_count": 156,
     "metadata": {},
     "output_type": "execute_result"
    }
   ],
   "source": [
    "arr2[::2]"
   ]
  },
  {
   "cell_type": "code",
   "execution_count": 162,
   "id": "ff6674a8-2fcf-4b92-afee-7db76c050687",
   "metadata": {},
   "outputs": [
    {
     "data": {
      "text/plain": [
       "array([[71, 28, 53, 92, 70, 66, 30, 87, 18,  5],\n",
       "       [11,  0, 12, 16, 12, 80, 45, 15, 77, 18],\n",
       "       [43, 62, 46, 35, 14, 13, 45, 32, 28, 74],\n",
       "       [40, 80, 90, 34, 11, 74, 96, 20,  2, 78],\n",
       "       [59, 77,  1,  5, 63, 31, 64, 12, 23, 68],\n",
       "       [71, 97, 49, 44,  3, 42, 41, 44, 23, 96],\n",
       "       [ 6, 39, 32, 95, 81,  8, 85, 60, 10, 16],\n",
       "       [12, 77, 67, 78, 33, 22, 79, 84, 44, 87],\n",
       "       [62, 61, 27, 19, 12, 32, 27, 40, 21, 57],\n",
       "       [33, 42, 93,  5, 79, 85, 16, 49, 25, 63]])"
      ]
     },
     "execution_count": 162,
     "metadata": {},
     "output_type": "execute_result"
    }
   ],
   "source": [
    "arr2"
   ]
  },
  {
   "cell_type": "code",
   "execution_count": 164,
   "id": "ae51ddd5-0256-4d02-9f59-b0ca838b278c",
   "metadata": {},
   "outputs": [
    {
     "data": {
      "text/plain": [
       "array([[71, 28, 53, 92, 70, 66, 30, 87, 18,  5],\n",
       "       [40, 80, 90, 34, 11, 74, 96, 20,  2, 78],\n",
       "       [ 6, 39, 32, 95, 81,  8, 85, 60, 10, 16],\n",
       "       [33, 42, 93,  5, 79, 85, 16, 49, 25, 63]])"
      ]
     },
     "execution_count": 164,
     "metadata": {},
     "output_type": "execute_result"
    }
   ],
   "source": [
    "arr2[::3]"
   ]
  },
  {
   "cell_type": "code",
   "execution_count": 168,
   "id": "28ebc0d1-12b1-4e62-9598-a19965086aae",
   "metadata": {},
   "outputs": [
    {
     "data": {
      "text/plain": [
       "array([[33, 42, 93,  5, 79, 85, 16, 49, 25, 63],\n",
       "       [ 6, 39, 32, 95, 81,  8, 85, 60, 10, 16],\n",
       "       [40, 80, 90, 34, 11, 74, 96, 20,  2, 78],\n",
       "       [71, 28, 53, 92, 70, 66, 30, 87, 18,  5]])"
      ]
     },
     "execution_count": 168,
     "metadata": {},
     "output_type": "execute_result"
    }
   ],
   "source": [
    "arr2[::-3]"
   ]
  },
  {
   "cell_type": "code",
   "execution_count": 171,
   "id": "eaec7e95-d6bc-4982-a134-181e37696227",
   "metadata": {},
   "outputs": [
    {
     "data": {
      "text/plain": [
       "array([[71, 28, 53, 92, 70, 66, 30, 87, 18,  5],\n",
       "       [11,  0, 12, 16, 12, 80, 45, 15, 77, 18],\n",
       "       [43, 62, 46, 35, 14, 13, 45, 32, 28, 74],\n",
       "       [40, 80, 90, 34, 11, 74, 96, 20,  2, 78],\n",
       "       [59, 77,  1,  5, 63, 31, 64, 12, 23, 68],\n",
       "       [71, 97, 49, 44,  3, 42, 41, 44, 23, 96],\n",
       "       [ 6, 39, 32, 95, 81,  8, 85, 60, 10, 16],\n",
       "       [12, 77, 67, 78, 33, 22, 79, 84, 44, 87],\n",
       "       [62, 61, 27, 19, 12, 32, 27, 40, 21, 57],\n",
       "       [33, 42, 93,  5, 79, 85, 16, 49, 25, 63]])"
      ]
     },
     "execution_count": 171,
     "metadata": {},
     "output_type": "execute_result"
    }
   ],
   "source": [
    "arr2"
   ]
  },
  {
   "cell_type": "code",
   "execution_count": 173,
   "id": "7d139fe2-b4b6-4c80-b648-10982a8bd161",
   "metadata": {},
   "outputs": [
    {
     "data": {
      "text/plain": [
       "array([[33, 42, 93,  5, 79, 85, 16, 49, 25, 63],\n",
       "       [71, 97, 49, 44,  3, 42, 41, 44, 23, 96],\n",
       "       [11,  0, 12, 16, 12, 80, 45, 15, 77, 18]])"
      ]
     },
     "execution_count": 173,
     "metadata": {},
     "output_type": "execute_result"
    }
   ],
   "source": [
    "arr2[::-4]"
   ]
  },
  {
   "cell_type": "code",
   "execution_count": 177,
   "id": "d3bdd656-3ab7-4dd3-87d3-5de2650b0623",
   "metadata": {},
   "outputs": [
    {
     "data": {
      "text/plain": [
       "array([0, 1, 2, 3, 4, 5])"
      ]
     },
     "execution_count": 177,
     "metadata": {},
     "output_type": "execute_result"
    }
   ],
   "source": [
    "arr"
   ]
  },
  {
   "cell_type": "code",
   "execution_count": 179,
   "id": "47c4b647-6bd1-4db2-940f-624be2590063",
   "metadata": {},
   "outputs": [
    {
     "data": {
      "text/plain": [
       "5"
      ]
     },
     "execution_count": 179,
     "metadata": {},
     "output_type": "execute_result"
    }
   ],
   "source": [
    "arr.max()"
   ]
  },
  {
   "cell_type": "code",
   "execution_count": 181,
   "id": "006611ed-85e7-4f89-b064-8de2a72f4d43",
   "metadata": {},
   "outputs": [
    {
     "data": {
      "text/plain": [
       "0"
      ]
     },
     "execution_count": 181,
     "metadata": {},
     "output_type": "execute_result"
    }
   ],
   "source": [
    "arr.min()"
   ]
  },
  {
   "cell_type": "code",
   "execution_count": 183,
   "id": "7fd4cc72-f835-4b66-bbb0-3e974be2791d",
   "metadata": {},
   "outputs": [
    {
     "data": {
      "text/plain": [
       "array([0, 1, 2, 3, 4, 5])"
      ]
     },
     "execution_count": 183,
     "metadata": {},
     "output_type": "execute_result"
    }
   ],
   "source": [
    "arr"
   ]
  },
  {
   "cell_type": "code",
   "execution_count": 185,
   "id": "109f0257-f270-4f42-bb0a-9a16dfa82411",
   "metadata": {},
   "outputs": [
    {
     "data": {
      "text/plain": [
       "2.5"
      ]
     },
     "execution_count": 185,
     "metadata": {},
     "output_type": "execute_result"
    }
   ],
   "source": [
    "arr.mean()"
   ]
  },
  {
   "cell_type": "code",
   "execution_count": 187,
   "id": "932dc952-ab37-4c49-a787-bc782fff638d",
   "metadata": {},
   "outputs": [
    {
     "data": {
      "text/plain": [
       "array([0, 1, 2, 3, 4, 5])"
      ]
     },
     "execution_count": 187,
     "metadata": {},
     "output_type": "execute_result"
    }
   ],
   "source": [
    "arr"
   ]
  },
  {
   "cell_type": "code",
   "execution_count": 200,
   "id": "66878dc2-5304-4e6f-b6a7-1a0c83bebcab",
   "metadata": {},
   "outputs": [
    {
     "data": {
      "text/plain": [
       "4.0"
      ]
     },
     "execution_count": 200,
     "metadata": {},
     "output_type": "execute_result"
    }
   ],
   "source": [
    "from numpy import*\n",
    "a = array([1,2,3,4,5,6,7])\n",
    "median(a)"
   ]
  },
  {
   "cell_type": "code",
   "execution_count": 202,
   "id": "9a76cc93-0f28-4681-9789-261f75cc18bc",
   "metadata": {},
   "outputs": [
    {
     "data": {
      "text/plain": [
       "array([0, 1, 2, 3, 4, 5])"
      ]
     },
     "execution_count": 202,
     "metadata": {},
     "output_type": "execute_result"
    }
   ],
   "source": [
    "arr"
   ]
  },
  {
   "cell_type": "code",
   "execution_count": 204,
   "id": "f661ef7c-22a8-447b-a241-3c3dc9fbf07d",
   "metadata": {},
   "outputs": [
    {
     "data": {
      "text/plain": [
       "array([[0, 1, 2],\n",
       "       [3, 4, 5]])"
      ]
     },
     "execution_count": 204,
     "metadata": {},
     "output_type": "execute_result"
    }
   ],
   "source": [
    "arr.reshape(2,3)"
   ]
  },
  {
   "cell_type": "code",
   "execution_count": 206,
   "id": "795259e4-fc25-40f0-8acc-a3c4ed3632ab",
   "metadata": {},
   "outputs": [
    {
     "data": {
      "text/plain": [
       "array([[0],\n",
       "       [1],\n",
       "       [2],\n",
       "       [3],\n",
       "       [4],\n",
       "       [5]])"
      ]
     },
     "execution_count": 206,
     "metadata": {},
     "output_type": "execute_result"
    }
   ],
   "source": [
    "arr.reshape(6,1)"
   ]
  },
  {
   "cell_type": "code",
   "execution_count": 208,
   "id": "2c99bc88-9e08-4d80-bae7-c7799e65671b",
   "metadata": {},
   "outputs": [
    {
     "data": {
      "text/plain": [
       "array([[0, 1, 2, 3, 4, 5]])"
      ]
     },
     "execution_count": 208,
     "metadata": {},
     "output_type": "execute_result"
    }
   ],
   "source": [
    "arr.reshape(1,6)"
   ]
  },
  {
   "cell_type": "code",
   "execution_count": 210,
   "id": "284fa4f4-c4aa-4fd7-a618-1b19e54b8195",
   "metadata": {},
   "outputs": [
    {
     "data": {
      "text/plain": [
       "array([[0, 1],\n",
       "       [2, 3],\n",
       "       [4, 5]])"
      ]
     },
     "execution_count": 210,
     "metadata": {},
     "output_type": "execute_result"
    }
   ],
   "source": [
    "arr.reshape(3,2,order='C')"
   ]
  },
  {
   "cell_type": "code",
   "execution_count": 214,
   "id": "4a845242-e54c-4e6f-ba23-6e7d36c83b8e",
   "metadata": {},
   "outputs": [
    {
     "data": {
      "text/plain": [
       "array([[0, 1],\n",
       "       [2, 3],\n",
       "       [4, 5]])"
      ]
     },
     "execution_count": 214,
     "metadata": {},
     "output_type": "execute_result"
    }
   ],
   "source": [
    "arr.reshape(3,2,order='A')"
   ]
  },
  {
   "cell_type": "code",
   "execution_count": 218,
   "id": "00b27975-9a9b-4924-b354-9a5887cb2511",
   "metadata": {},
   "outputs": [
    {
     "data": {
      "text/plain": [
       "array([[0, 3],\n",
       "       [1, 4],\n",
       "       [2, 5]])"
      ]
     },
     "execution_count": 218,
     "metadata": {},
     "output_type": "execute_result"
    }
   ],
   "source": [
    "arr.reshape(3,2,order='F')"
   ]
  },
  {
   "cell_type": "markdown",
   "id": "84ec4509-e18e-43e5-8a5a-36f9deb2a107",
   "metadata": {},
   "source": [
    "# Indexing"
   ]
  },
  {
   "cell_type": "code",
   "execution_count": 9,
   "id": "149a0352-675c-48d7-b937-4c66b0d0ca1a",
   "metadata": {},
   "outputs": [],
   "source": [
    "import numpy as np"
   ]
  },
  {
   "cell_type": "code",
   "execution_count": 11,
   "id": "58f8b687-8f36-4cc7-aa35-9214093c0c32",
   "metadata": {},
   "outputs": [],
   "source": [
    "mat = np.arange(0,100).reshape(10,10)"
   ]
  },
  {
   "cell_type": "code",
   "execution_count": 223,
   "id": "a72003ce-7860-418e-98ac-7e38935e6fde",
   "metadata": {},
   "outputs": [
    {
     "data": {
      "text/plain": [
       "array([[ 0,  1,  2,  3,  4,  5,  6,  7,  8,  9],\n",
       "       [10, 11, 12, 13, 14, 15, 16, 17, 18, 19],\n",
       "       [20, 21, 22, 23, 24, 25, 26, 27, 28, 29],\n",
       "       [30, 31, 32, 33, 34, 35, 36, 37, 38, 39],\n",
       "       [40, 41, 42, 43, 44, 45, 46, 47, 48, 49],\n",
       "       [50, 51, 52, 53, 54, 55, 56, 57, 58, 59],\n",
       "       [60, 61, 62, 63, 64, 65, 66, 67, 68, 69],\n",
       "       [70, 71, 72, 73, 74, 75, 76, 77, 78, 79],\n",
       "       [80, 81, 82, 83, 84, 85, 86, 87, 88, 89],\n",
       "       [90, 91, 92, 93, 94, 95, 96, 97, 98, 99]])"
      ]
     },
     "execution_count": 223,
     "metadata": {},
     "output_type": "execute_result"
    }
   ],
   "source": [
    "mat"
   ]
  },
  {
   "cell_type": "code",
   "execution_count": 32,
   "id": "9caba357-f9da-4f00-9e23-29d8d8a7d36a",
   "metadata": {},
   "outputs": [],
   "source": [
    "row = 4\n",
    "col = 5"
   ]
  },
  {
   "cell_type": "code",
   "execution_count": 34,
   "id": "eef81839-2c9a-4f67-8a0e-76cc7583e82b",
   "metadata": {},
   "outputs": [
    {
     "data": {
      "text/plain": [
       "5"
      ]
     },
     "execution_count": 34,
     "metadata": {},
     "output_type": "execute_result"
    }
   ],
   "source": [
    "col"
   ]
  },
  {
   "cell_type": "code",
   "execution_count": 36,
   "id": "b234b53d-0b98-4b39-b1e2-60212f9d45a2",
   "metadata": {},
   "outputs": [
    {
     "data": {
      "text/plain": [
       "4"
      ]
     },
     "execution_count": 36,
     "metadata": {},
     "output_type": "execute_result"
    }
   ],
   "source": [
    "row"
   ]
  },
  {
   "cell_type": "code",
   "execution_count": 233,
   "id": "513cc348-33b8-49b2-a0e3-2d19317aff68",
   "metadata": {},
   "outputs": [
    {
     "data": {
      "text/plain": [
       "45"
      ]
     },
     "execution_count": 233,
     "metadata": {},
     "output_type": "execute_result"
    }
   ],
   "source": [
    "mat[row,col]"
   ]
  },
  {
   "cell_type": "code",
   "execution_count": 13,
   "id": "e93efe79-6f54-4ca2-8705-8023bb5c7cfd",
   "metadata": {},
   "outputs": [
    {
     "data": {
      "text/plain": [
       "45"
      ]
     },
     "execution_count": 13,
     "metadata": {},
     "output_type": "execute_result"
    }
   ],
   "source": [
    "mat[4,5]"
   ]
  },
  {
   "cell_type": "code",
   "execution_count": 15,
   "id": "886896eb-ecf9-426e-8d64-5443d5da69a9",
   "metadata": {},
   "outputs": [
    {
     "data": {
      "text/plain": [
       "array([[ 0,  1,  2,  3,  4,  5,  6,  7,  8,  9],\n",
       "       [10, 11, 12, 13, 14, 15, 16, 17, 18, 19],\n",
       "       [20, 21, 22, 23, 24, 25, 26, 27, 28, 29],\n",
       "       [30, 31, 32, 33, 34, 35, 36, 37, 38, 39],\n",
       "       [40, 41, 42, 43, 44, 45, 46, 47, 48, 49],\n",
       "       [50, 51, 52, 53, 54, 55, 56, 57, 58, 59],\n",
       "       [60, 61, 62, 63, 64, 65, 66, 67, 68, 69],\n",
       "       [70, 71, 72, 73, 74, 75, 76, 77, 78, 79],\n",
       "       [80, 81, 82, 83, 84, 85, 86, 87, 88, 89],\n",
       "       [90, 91, 92, 93, 94, 95, 96, 97, 98, 99]])"
      ]
     },
     "execution_count": 15,
     "metadata": {},
     "output_type": "execute_result"
    }
   ],
   "source": [
    "mat"
   ]
  },
  {
   "cell_type": "code",
   "execution_count": 43,
   "id": "b3c59ccd-8618-4b17-8f79-622f1ab4db47",
   "metadata": {},
   "outputs": [
    {
     "data": {
      "text/plain": [
       "array([[ 0,  1,  2,  3,  4,  5,  6,  7,  8,  9],\n",
       "       [10, 11, 12, 13, 14, 15, 16, 17, 18, 19],\n",
       "       [20, 21, 22, 23, 24, 25, 26, 27, 28, 29],\n",
       "       [30, 31, 32, 33, 34, 35, 36, 37, 38, 39],\n",
       "       [40, 41, 42, 43, 44, 45, 46, 47, 48, 49],\n",
       "       [50, 51, 52, 53, 54, 55, 56, 57, 58, 59],\n",
       "       [60, 61, 62, 63, 64, 65, 66, 67, 68, 69],\n",
       "       [70, 71, 72, 73, 74, 75, 76, 77, 78, 79],\n",
       "       [80, 81, 82, 83, 84, 85, 86, 87, 88, 89],\n",
       "       [90, 91, 92, 93, 94, 95, 96, 97, 98, 99]])"
      ]
     },
     "execution_count": 43,
     "metadata": {},
     "output_type": "execute_result"
    }
   ],
   "source": [
    "mat[:]"
   ]
  },
  {
   "cell_type": "code",
   "execution_count": 45,
   "id": "f36244bd-7101-410e-915f-df9301ecd56b",
   "metadata": {},
   "outputs": [],
   "source": [
    "col = 6"
   ]
  },
  {
   "cell_type": "code",
   "execution_count": 20,
   "id": "ec2f4ea2-9b0c-4dfa-b73f-a7cd42a4422e",
   "metadata": {},
   "outputs": [
    {
     "data": {
      "text/plain": [
       "array([[ 0,  1,  2,  3,  4,  5,  6,  7,  8,  9],\n",
       "       [10, 11, 12, 13, 14, 15, 16, 17, 18, 19],\n",
       "       [20, 21, 22, 23, 24, 25, 26, 27, 28, 29],\n",
       "       [30, 31, 32, 33, 34, 35, 36, 37, 38, 39],\n",
       "       [40, 41, 42, 43, 44, 45, 46, 47, 48, 49],\n",
       "       [50, 51, 52, 53, 54, 55, 56, 57, 58, 59],\n",
       "       [60, 61, 62, 63, 64, 65, 66, 67, 68, 69],\n",
       "       [70, 71, 72, 73, 74, 75, 76, 77, 78, 79],\n",
       "       [80, 81, 82, 83, 84, 85, 86, 87, 88, 89],\n",
       "       [90, 91, 92, 93, 94, 95, 96, 97, 98, 99]])"
      ]
     },
     "execution_count": 20,
     "metadata": {},
     "output_type": "execute_result"
    }
   ],
   "source": [
    "mat"
   ]
  },
  {
   "cell_type": "code",
   "execution_count": 22,
   "id": "c48eccf4-4e14-443d-aef0-13309fbd4a76",
   "metadata": {},
   "outputs": [
    {
     "data": {
      "text/plain": [
       "array([ 6, 16, 26, 36, 46, 56, 66, 76, 86, 96])"
      ]
     },
     "execution_count": 22,
     "metadata": {},
     "output_type": "execute_result"
    }
   ],
   "source": [
    "mat[:,col]"
   ]
  },
  {
   "cell_type": "code",
   "execution_count": 24,
   "id": "f1b25572-b57b-4ed5-aab8-957db12920dd",
   "metadata": {},
   "outputs": [
    {
     "data": {
      "text/plain": [
       "array([[ 0,  1,  2,  3,  4,  5,  6,  7,  8,  9],\n",
       "       [10, 11, 12, 13, 14, 15, 16, 17, 18, 19],\n",
       "       [20, 21, 22, 23, 24, 25, 26, 27, 28, 29],\n",
       "       [30, 31, 32, 33, 34, 35, 36, 37, 38, 39],\n",
       "       [40, 41, 42, 43, 44, 45, 46, 47, 48, 49],\n",
       "       [50, 51, 52, 53, 54, 55, 56, 57, 58, 59],\n",
       "       [60, 61, 62, 63, 64, 65, 66, 67, 68, 69],\n",
       "       [70, 71, 72, 73, 74, 75, 76, 77, 78, 79],\n",
       "       [80, 81, 82, 83, 84, 85, 86, 87, 88, 89],\n",
       "       [90, 91, 92, 93, 94, 95, 96, 97, 98, 99]])"
      ]
     },
     "execution_count": 24,
     "metadata": {},
     "output_type": "execute_result"
    }
   ],
   "source": [
    "mat"
   ]
  },
  {
   "cell_type": "code",
   "execution_count": 38,
   "id": "87c1ceb5-2dd5-4f5b-b2db-169cae54b91c",
   "metadata": {},
   "outputs": [
    {
     "data": {
      "text/plain": [
       "array([40, 41, 42, 43, 44, 45, 46, 47, 48, 49])"
      ]
     },
     "execution_count": 38,
     "metadata": {},
     "output_type": "execute_result"
    }
   ],
   "source": [
    "mat[row,:]"
   ]
  },
  {
   "cell_type": "code",
   "execution_count": 40,
   "id": "3ba8ef0f-6d88-4f29-872c-ee7a019c4581",
   "metadata": {},
   "outputs": [
    {
     "data": {
      "text/plain": [
       "array([[ 0,  1,  2,  3,  4,  5,  6,  7,  8,  9],\n",
       "       [10, 11, 12, 13, 14, 15, 16, 17, 18, 19],\n",
       "       [20, 21, 22, 23, 24, 25, 26, 27, 28, 29],\n",
       "       [30, 31, 32, 33, 34, 35, 36, 37, 38, 39],\n",
       "       [40, 41, 42, 43, 44, 45, 46, 47, 48, 49],\n",
       "       [50, 51, 52, 53, 54, 55, 56, 57, 58, 59],\n",
       "       [60, 61, 62, 63, 64, 65, 66, 67, 68, 69],\n",
       "       [70, 71, 72, 73, 74, 75, 76, 77, 78, 79],\n",
       "       [80, 81, 82, 83, 84, 85, 86, 87, 88, 89],\n",
       "       [90, 91, 92, 93, 94, 95, 96, 97, 98, 99]])"
      ]
     },
     "execution_count": 40,
     "metadata": {},
     "output_type": "execute_result"
    }
   ],
   "source": [
    "mat"
   ]
  },
  {
   "cell_type": "code",
   "execution_count": 47,
   "id": "3a423d5d-0cfe-4653-851c-141930fbcc30",
   "metadata": {},
   "outputs": [
    {
     "data": {
      "text/plain": [
       "array([[ 0,  1,  2,  3,  4,  5,  6,  7,  8,  9],\n",
       "       [10, 11, 12, 13, 14, 15, 16, 17, 18, 19],\n",
       "       [20, 21, 22, 23, 24, 25, 26, 27, 28, 29],\n",
       "       [30, 31, 32, 33, 34, 35, 36, 37, 38, 39]])"
      ]
     },
     "execution_count": 47,
     "metadata": {},
     "output_type": "execute_result"
    }
   ],
   "source": [
    "mat[:row]"
   ]
  },
  {
   "cell_type": "code",
   "execution_count": 49,
   "id": "dc79e5b6-d767-4120-9cb8-9fc5b2975d86",
   "metadata": {},
   "outputs": [
    {
     "data": {
      "text/plain": [
       "array([40, 41, 42, 43, 44, 45, 46, 47, 48, 49])"
      ]
     },
     "execution_count": 49,
     "metadata": {},
     "output_type": "execute_result"
    }
   ],
   "source": [
    "mat[row,:]"
   ]
  },
  {
   "cell_type": "code",
   "execution_count": 51,
   "id": "7c1c398e-5b1f-49d9-a967-0a45b05e6447",
   "metadata": {},
   "outputs": [
    {
     "data": {
      "text/plain": [
       "array([[ 0,  1,  2,  3,  4,  5,  6,  7,  8,  9],\n",
       "       [10, 11, 12, 13, 14, 15, 16, 17, 18, 19],\n",
       "       [20, 21, 22, 23, 24, 25, 26, 27, 28, 29],\n",
       "       [30, 31, 32, 33, 34, 35, 36, 37, 38, 39],\n",
       "       [40, 41, 42, 43, 44, 45, 46, 47, 48, 49],\n",
       "       [50, 51, 52, 53, 54, 55, 56, 57, 58, 59]])"
      ]
     },
     "execution_count": 51,
     "metadata": {},
     "output_type": "execute_result"
    }
   ],
   "source": [
    "mat[:col]"
   ]
  },
  {
   "cell_type": "code",
   "execution_count": 55,
   "id": "798e2832-5e9c-4151-adf7-6cec62e33802",
   "metadata": {},
   "outputs": [
    {
     "data": {
      "text/plain": [
       "array([ 6, 16, 26, 36, 46, 56, 66, 76, 86, 96])"
      ]
     },
     "execution_count": 55,
     "metadata": {},
     "output_type": "execute_result"
    }
   ],
   "source": [
    "mat[:,col]"
   ]
  },
  {
   "cell_type": "code",
   "execution_count": 66,
   "id": "1a111843-53c3-475b-961c-5f75fb113336",
   "metadata": {},
   "outputs": [
    {
     "data": {
      "text/plain": [
       "array([[ 0,  1,  2,  3,  4,  5,  6,  7,  8,  9],\n",
       "       [10, 11, 12, 13, 14, 15, 16, 17, 18, 19],\n",
       "       [20, 21, 22, 23, 24, 25, 26, 27, 28, 29],\n",
       "       [30, 31, 32, 33, 34, 35, 36, 37, 38, 39],\n",
       "       [40, 41, 42, 43, 44, 45, 46, 47, 48, 49],\n",
       "       [50, 51, 52, 53, 54, 55, 56, 57, 58, 59],\n",
       "       [60, 61, 62, 63, 64, 65, 66, 67, 68, 69],\n",
       "       [70, 71, 72, 73, 74, 75, 76, 77, 78, 79],\n",
       "       [80, 81, 82, 83, 84, 85, 86, 87, 88, 89],\n",
       "       [90, 91, 92, 93, 94, 95, 96, 97, 98, 99]])"
      ]
     },
     "execution_count": 66,
     "metadata": {},
     "output_type": "execute_result"
    }
   ],
   "source": [
    "mat"
   ]
  },
  {
   "cell_type": "code",
   "execution_count": 72,
   "id": "97e9d6d2-8055-4fc5-b142-8cf8b0b3ff18",
   "metadata": {},
   "outputs": [
    {
     "data": {
      "text/plain": [
       "array([70, 71, 72, 73, 74, 75, 76, 77, 78, 79])"
      ]
     },
     "execution_count": 72,
     "metadata": {},
     "output_type": "execute_result"
    }
   ],
   "source": [
    "mat[-3,:]"
   ]
  },
  {
   "cell_type": "code",
   "execution_count": 74,
   "id": "dbaafa2c-b7b9-4b79-97ca-38363502cf69",
   "metadata": {},
   "outputs": [
    {
     "data": {
      "text/plain": [
       "array([ 7, 17, 27, 37, 47, 57, 67, 77, 87, 97])"
      ]
     },
     "execution_count": 74,
     "metadata": {},
     "output_type": "execute_result"
    }
   ],
   "source": [
    "mat[:,-3]"
   ]
  },
  {
   "cell_type": "code",
   "execution_count": 76,
   "id": "54825f89-eefd-4d90-9982-d1ca9ce4f4d7",
   "metadata": {},
   "outputs": [
    {
     "data": {
      "text/plain": [
       "14"
      ]
     },
     "execution_count": 76,
     "metadata": {},
     "output_type": "execute_result"
    }
   ],
   "source": [
    "mat[1,4]"
   ]
  },
  {
   "cell_type": "code",
   "execution_count": 78,
   "id": "1e9a2b7b-c988-4f91-be49-b199f6426ca5",
   "metadata": {},
   "outputs": [
    {
     "data": {
      "text/plain": [
       "array([[ 0,  1,  2,  3,  4,  5,  6,  7,  8,  9],\n",
       "       [10, 11, 12, 13, 14, 15, 16, 17, 18, 19],\n",
       "       [20, 21, 22, 23, 24, 25, 26, 27, 28, 29],\n",
       "       [30, 31, 32, 33, 34, 35, 36, 37, 38, 39],\n",
       "       [40, 41, 42, 43, 44, 45, 46, 47, 48, 49],\n",
       "       [50, 51, 52, 53, 54, 55, 56, 57, 58, 59],\n",
       "       [60, 61, 62, 63, 64, 65, 66, 67, 68, 69],\n",
       "       [70, 71, 72, 73, 74, 75, 76, 77, 78, 79],\n",
       "       [80, 81, 82, 83, 84, 85, 86, 87, 88, 89],\n",
       "       [90, 91, 92, 93, 94, 95, 96, 97, 98, 99]])"
      ]
     },
     "execution_count": 78,
     "metadata": {},
     "output_type": "execute_result"
    }
   ],
   "source": [
    "mat"
   ]
  },
  {
   "cell_type": "code",
   "execution_count": 80,
   "id": "57804321-feb2-4fdf-a477-d1bf12b36558",
   "metadata": {},
   "outputs": [
    {
     "data": {
      "text/plain": [
       "array([[30, 31, 32, 33, 34, 35, 36, 37, 38, 39],\n",
       "       [40, 41, 42, 43, 44, 45, 46, 47, 48, 49],\n",
       "       [50, 51, 52, 53, 54, 55, 56, 57, 58, 59],\n",
       "       [60, 61, 62, 63, 64, 65, 66, 67, 68, 69]])"
      ]
     },
     "execution_count": 80,
     "metadata": {},
     "output_type": "execute_result"
    }
   ],
   "source": [
    "mat[3:-3]"
   ]
  },
  {
   "cell_type": "code",
   "execution_count": 82,
   "id": "66603130-3b53-4b72-bee2-8e620bb86b84",
   "metadata": {},
   "outputs": [
    {
     "data": {
      "text/plain": [
       "array([0, 1, 2, 3, 4, 5, 6, 7, 8, 9])"
      ]
     },
     "execution_count": 82,
     "metadata": {},
     "output_type": "execute_result"
    }
   ],
   "source": [
    "mat[0]"
   ]
  },
  {
   "cell_type": "code",
   "execution_count": 84,
   "id": "0eb57bf5-cccc-4275-b0b2-ee1faf27f4c5",
   "metadata": {},
   "outputs": [
    {
     "data": {
      "text/plain": [
       "array([ 0, 10, 20, 30, 40, 50, 60, 70, 80, 90])"
      ]
     },
     "execution_count": 84,
     "metadata": {},
     "output_type": "execute_result"
    }
   ],
   "source": [
    "mat[:,0]"
   ]
  },
  {
   "cell_type": "code",
   "execution_count": 86,
   "id": "1cb37110-e295-4c03-a632-94ac27038ec6",
   "metadata": {},
   "outputs": [
    {
     "data": {
      "text/plain": [
       "array([[ 0,  1,  2,  3,  4,  5,  6,  7,  8,  9],\n",
       "       [10, 11, 12, 13, 14, 15, 16, 17, 18, 19],\n",
       "       [20, 21, 22, 23, 24, 25, 26, 27, 28, 29],\n",
       "       [30, 31, 32, 33, 34, 35, 36, 37, 38, 39],\n",
       "       [40, 41, 42, 43, 44, 45, 46, 47, 48, 49],\n",
       "       [50, 51, 52, 53, 54, 55, 56, 57, 58, 59],\n",
       "       [60, 61, 62, 63, 64, 65, 66, 67, 68, 69],\n",
       "       [70, 71, 72, 73, 74, 75, 76, 77, 78, 79],\n",
       "       [80, 81, 82, 83, 84, 85, 86, 87, 88, 89],\n",
       "       [90, 91, 92, 93, 94, 95, 96, 97, 98, 99]])"
      ]
     },
     "execution_count": 86,
     "metadata": {},
     "output_type": "execute_result"
    }
   ],
   "source": [
    "mat"
   ]
  },
  {
   "cell_type": "code",
   "execution_count": 88,
   "id": "5cde258b-2aba-4cec-86bc-7d8ef44ff4e9",
   "metadata": {},
   "outputs": [
    {
     "data": {
      "text/plain": [
       "array([[ 0,  1,  2,  3,  4,  5,  6,  7,  8,  9],\n",
       "       [30, 31, 32, 33, 34, 35, 36, 37, 38, 39],\n",
       "       [60, 61, 62, 63, 64, 65, 66, 67, 68, 69],\n",
       "       [90, 91, 92, 93, 94, 95, 96, 97, 98, 99]])"
      ]
     },
     "execution_count": 88,
     "metadata": {},
     "output_type": "execute_result"
    }
   ],
   "source": [
    "mat[0:10:3]"
   ]
  },
  {
   "cell_type": "code",
   "execution_count": 92,
   "id": "450bcedb-73d4-4d02-837c-c1361358c5c5",
   "metadata": {},
   "outputs": [
    {
     "data": {
      "text/plain": [
       "array([[40, 41, 42, 43, 44, 45, 46, 47, 48, 49],\n",
       "       [50, 51, 52, 53, 54, 55, 56, 57, 58, 59],\n",
       "       [60, 61, 62, 63, 64, 65, 66, 67, 68, 69],\n",
       "       [70, 71, 72, 73, 74, 75, 76, 77, 78, 79],\n",
       "       [80, 81, 82, 83, 84, 85, 86, 87, 88, 89],\n",
       "       [90, 91, 92, 93, 94, 95, 96, 97, 98, 99]])"
      ]
     },
     "execution_count": 92,
     "metadata": {},
     "output_type": "execute_result"
    }
   ],
   "source": [
    "mat[4:]"
   ]
  },
  {
   "cell_type": "code",
   "execution_count": 94,
   "id": "cd02d431-8c18-4ea2-8146-ba2111ec4c2e",
   "metadata": {},
   "outputs": [
    {
     "data": {
      "text/plain": [
       "array([[ 0,  1,  2,  3,  4,  5,  6,  7,  8,  9],\n",
       "       [10, 11, 12, 13, 14, 15, 16, 17, 18, 19],\n",
       "       [20, 21, 22, 23, 24, 25, 26, 27, 28, 29],\n",
       "       [30, 31, 32, 33, 34, 35, 36, 37, 38, 39],\n",
       "       [40, 41, 42, 43, 44, 45, 46, 47, 48, 49],\n",
       "       [50, 51, 52, 53, 54, 55, 56, 57, 58, 59],\n",
       "       [60, 61, 62, 63, 64, 65, 66, 67, 68, 69],\n",
       "       [70, 71, 72, 73, 74, 75, 76, 77, 78, 79],\n",
       "       [80, 81, 82, 83, 84, 85, 86, 87, 88, 89],\n",
       "       [90, 91, 92, 93, 94, 95, 96, 97, 98, 99]])"
      ]
     },
     "execution_count": 94,
     "metadata": {},
     "output_type": "execute_result"
    }
   ],
   "source": [
    "mat"
   ]
  },
  {
   "cell_type": "code",
   "execution_count": 96,
   "id": "b7247fab-f44c-4f89-adfe-dc4cf6adae28",
   "metadata": {},
   "outputs": [
    {
     "data": {
      "text/plain": [
       "array([[ 0,  1,  2,  3,  4,  5,  6,  7,  8,  9],\n",
       "       [30, 31, 32, 33, 34, 35, 36, 37, 38, 39],\n",
       "       [60, 61, 62, 63, 64, 65, 66, 67, 68, 69],\n",
       "       [90, 91, 92, 93, 94, 95, 96, 97, 98, 99]])"
      ]
     },
     "execution_count": 96,
     "metadata": {},
     "output_type": "execute_result"
    }
   ],
   "source": [
    "mat[::3]"
   ]
  },
  {
   "cell_type": "code",
   "execution_count": 98,
   "id": "5fc515cf-bb46-4253-b127-3221711d7c9b",
   "metadata": {},
   "outputs": [
    {
     "data": {
      "text/plain": [
       "array([[90, 91, 92, 93, 94, 95, 96, 97, 98, 99],\n",
       "       [60, 61, 62, 63, 64, 65, 66, 67, 68, 69],\n",
       "       [30, 31, 32, 33, 34, 35, 36, 37, 38, 39],\n",
       "       [ 0,  1,  2,  3,  4,  5,  6,  7,  8,  9]])"
      ]
     },
     "execution_count": 98,
     "metadata": {},
     "output_type": "execute_result"
    }
   ],
   "source": [
    "mat[::-3]"
   ]
  },
  {
   "cell_type": "code",
   "execution_count": 100,
   "id": "c8e25405-cad8-4225-8672-eec0865d7568",
   "metadata": {},
   "outputs": [
    {
     "data": {
      "text/plain": [
       "array([[ 0,  1,  2,  3,  4,  5,  6,  7,  8,  9],\n",
       "       [10, 11, 12, 13, 14, 15, 16, 17, 18, 19],\n",
       "       [20, 21, 22, 23, 24, 25, 26, 27, 28, 29],\n",
       "       [30, 31, 32, 33, 34, 35, 36, 37, 38, 39],\n",
       "       [40, 41, 42, 43, 44, 45, 46, 47, 48, 49],\n",
       "       [50, 51, 52, 53, 54, 55, 56, 57, 58, 59],\n",
       "       [60, 61, 62, 63, 64, 65, 66, 67, 68, 69],\n",
       "       [70, 71, 72, 73, 74, 75, 76, 77, 78, 79],\n",
       "       [80, 81, 82, 83, 84, 85, 86, 87, 88, 89],\n",
       "       [90, 91, 92, 93, 94, 95, 96, 97, 98, 99]])"
      ]
     },
     "execution_count": 100,
     "metadata": {},
     "output_type": "execute_result"
    }
   ],
   "source": [
    "mat"
   ]
  },
  {
   "cell_type": "code",
   "execution_count": 102,
   "id": "aa8a57a4-b59e-4c19-b39a-7615099bd977",
   "metadata": {},
   "outputs": [
    {
     "data": {
      "text/plain": [
       "array([[22, 23],\n",
       "       [32, 33],\n",
       "       [42, 43],\n",
       "       [52, 53]])"
      ]
     },
     "execution_count": 102,
     "metadata": {},
     "output_type": "execute_result"
    }
   ],
   "source": [
    "mat[2:6,2:4]"
   ]
  },
  {
   "cell_type": "code",
   "execution_count": 104,
   "id": "378965e4-a71e-4538-b5d6-55543f0c217b",
   "metadata": {},
   "outputs": [
    {
     "data": {
      "text/plain": [
       "array([[23, 24, 25],\n",
       "       [33, 34, 35]])"
      ]
     },
     "execution_count": 104,
     "metadata": {},
     "output_type": "execute_result"
    }
   ],
   "source": [
    "mat[2:4,3:6]"
   ]
  },
  {
   "cell_type": "code",
   "execution_count": null,
   "id": "c31ceedd-5df8-484a-bc94-14ee0a4b894f",
   "metadata": {},
   "outputs": [],
   "source": []
  },
  {
   "cell_type": "code",
   "execution_count": null,
   "id": "8c9a88b0-5b3e-47a6-a9f3-4fa4e7f93652",
   "metadata": {},
   "outputs": [],
   "source": []
  },
  {
   "cell_type": "code",
   "execution_count": null,
   "id": "1fca5c1b-3527-4360-be76-07681cef0527",
   "metadata": {},
   "outputs": [],
   "source": []
  },
  {
   "cell_type": "code",
   "execution_count": null,
   "id": "d9518b58-b4c8-4a07-a02e-c979cdd48cc0",
   "metadata": {},
   "outputs": [],
   "source": []
  }
 ],
 "metadata": {
  "kernelspec": {
   "display_name": "Python [conda env:base] *",
   "language": "python",
   "name": "conda-base-py"
  },
  "language_info": {
   "codemirror_mode": {
    "name": "ipython",
    "version": 3
   },
   "file_extension": ".py",
   "mimetype": "text/x-python",
   "name": "python",
   "nbconvert_exporter": "python",
   "pygments_lexer": "ipython3",
   "version": "3.12.7"
  }
 },
 "nbformat": 4,
 "nbformat_minor": 5
}
